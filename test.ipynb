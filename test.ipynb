{
 "cells": [
  {
   "cell_type": "code",
   "execution_count": null,
   "id": "3c97c01e",
   "metadata": {},
   "outputs": [],
   "source": []
  },
  {
   "cell_type": "code",
   "execution_count": null,
   "id": "6717ef26",
   "metadata": {},
   "outputs": [],
   "source": [
    "import pandas as pd"
   ]
  },
  {
   "cell_type": "code",
   "execution_count": null,
   "id": "1f6de1a8",
   "metadata": {},
   "outputs": [],
   "source": [
    "path=r\"D:\\Learning\\adult.csv\"\n",
    "#pd.read_csv(path)"
   ]
  },
  {
   "cell_type": "code",
   "execution_count": null,
   "id": "95d28090",
   "metadata": {},
   "outputs": [],
   "source": []
  },
  {
   "cell_type": "code",
   "execution_count": 6,
   "id": "0070e8b0",
   "metadata": {},
   "outputs": [
    {
     "name": "stdout",
     "output_type": "stream",
     "text": [
      "Processed CSV saved as 'processed_income_data.csv'\n"
     ]
    },
    {
     "name": "stderr",
     "output_type": "stream",
     "text": [
      "C:\\Users\\Admin\\AppData\\Local\\Temp\\ipykernel_17488\\2083061432.py:10: SettingWithCopyWarning: \n",
      "A value is trying to be set on a copy of a slice from a DataFrame\n",
      "\n",
      "See the caveats in the documentation: https://pandas.pydata.org/pandas-docs/stable/user_guide/indexing.html#returning-a-view-versus-a-copy\n",
      "  df_100.replace('?', pd.NA, inplace=True)\n",
      "C:\\Users\\Admin\\AppData\\Local\\Temp\\ipykernel_17488\\2083061432.py:11: SettingWithCopyWarning: \n",
      "A value is trying to be set on a copy of a slice from a DataFrame\n",
      "\n",
      "See the caveats in the documentation: https://pandas.pydata.org/pandas-docs/stable/user_guide/indexing.html#returning-a-view-versus-a-copy\n",
      "  df_100.dropna(inplace=True)\n"
     ]
    }
   ],
   "source": [
    "import pandas as pd\n",
    "\n",
    "# Step 1: Load the CSV\n",
    "df = pd.read_csv(path)  # Replace with your actual file name\n",
    "\n",
    "# Step 2: Select the first 100 data points\n",
    "df_100 = df.head(100)\n",
    "\n",
    "# Step 3: Replace '?' with NaN, then drop rows with any missing values\n",
    "df_100.replace('?', pd.NA, inplace=True)\n",
    "df_100.dropna(inplace=True)\n",
    "\n",
    "# Step 4: Define columns to one-hot encode\n",
    "columns_to_encode = ['gender', 'age', 'education', 'workclass', 'occupation', 'educational-num']\n",
    "\n",
    "# Step 5: Apply one-hot encoding\n",
    "df_encoded = pd.get_dummies(df_100, columns=columns_to_encode, prefix=columns_to_encode)\n",
    "\n",
    "# Step 6: Save the processed data\n",
    "df_encoded.to_csv('processed_income_data.csv', index=False)\n",
    "\n",
    "print(\"Processed CSV saved as 'processed_income_data.csv'\")\n"
   ]
  },
  {
   "cell_type": "code",
   "execution_count": 9,
   "id": "a00c3c70",
   "metadata": {},
   "outputs": [
    {
     "name": "stdout",
     "output_type": "stream",
     "text": [
      "✅ Preprocessed dataset saved as 'cleaned_income_dataset.csv'\n"
     ]
    }
   ],
   "source": [
    "import pandas as pd\n",
    "\n",
    "# Step 1: Load the CSV\n",
    "\n",
    "# Step 2: Take first 100 rows\n",
    "df = df.head(100)\n",
    "\n",
    "# Step 3: Replace '?' with NaN and drop rows with missing values\n",
    "df.replace('?', pd.NA, inplace=True)\n",
    "df.dropna(inplace=True)\n",
    "\n",
    "# Step 4: Encode target column: income\n",
    "df['income'] = df['income'].apply(lambda x: 0 if x.strip() == '<=50K' else 1)\n",
    "\n",
    "# Step 5: Cast numeric columns properly\n",
    "df['age'] = df['age'].astype(int)\n",
    "df['educational-num'] = df['educational-num'].astype(int)\n",
    "\n",
    "# Step 6: One-hot encode categorical features\n",
    "categorical_cols = ['gender', 'education', 'workclass', 'occupation']\n",
    "df_encoded = pd.get_dummies(df, columns=categorical_cols, drop_first=True)\n",
    "\n",
    "# Step 7: Keep only useful columns for training\n",
    "final_columns = [col for col in df_encoded.columns if col != 'income'] + ['income']\n",
    "df_final = df_encoded[final_columns]\n",
    "\n",
    "# Step 8: Save to CSV\n",
    "df_final.to_csv('cleaned_income_dataset.csv', index=False)\n",
    "\n",
    "print(\"✅ Preprocessed dataset saved as 'cleaned_income_dataset.csv'\")\n"
   ]
  },
  {
   "cell_type": "code",
   "execution_count": null,
   "id": "591c99e4",
   "metadata": {},
   "outputs": [],
   "source": []
  },
  {
   "cell_type": "code",
   "execution_count": 3,
   "id": "2833f0d8",
   "metadata": {},
   "outputs": [
    {
     "name": "stdout",
     "output_type": "stream",
     "text": [
      "94.0\n"
     ]
    }
   ],
   "source": [
    "from enum import Enum, auto\n",
    "\n",
    "class DiscountType(Enum):\n",
    "    STANDARD = auto()\n",
    "    SEASONAL = auto()\n",
    "    WEIGHT = auto() # condition if weight > 10; discount == 18%, else discount == 6%\n",
    "    # return number (18, 6)\n",
    "\n",
    "#def WEIGHT\n",
    "\n",
    "\n",
    "def get_discounted_price(cart_weight, total_price, discount_type):\n",
    "    if discount_type==\"WEIGHT\":\n",
    "        if cart_weight>10:\n",
    "            return total_price-(total_price/100*18)\n",
    "        else:\n",
    "            return total_price-(total_price/100*6)\n",
    "\n",
    "    \n",
    "print(get_discounted_price(9, 100, \"WEIGHT\"))"
   ]
  },
  {
   "cell_type": "code",
   "execution_count": null,
   "id": "fc5b8fb5",
   "metadata": {},
   "outputs": [
    {
     "name": "stdout",
     "output_type": "stream",
     "text": [
      "82.0\n"
     ]
    }
   ],
   "source": [
    "from enum import Enum, auto\n",
    "\n",
    "class DiscountType(Enum):\n",
    "    STANDARD = auto()\n",
    "    SEASONAL = auto()\n",
    "    WEIGHT = auto()\n",
    "    \n",
    "\n",
    "def get_discounted_price(cart_weight, total_price, discount_type):\n",
    "    # your code\n",
    "    if discount_type==DiscountType.WEIGHT:\n",
    "        if cart_weight>10:\n",
    "            return total_price-(total_price/100*18)\n",
    "        else:\n",
    "            return total_price-(total_price/100*6)\n",
    "        \n",
    "\n",
    "    if discount_type==DiscountType.SEASONAL:\n",
    "        return total_price-(total_price/100*10)\n",
    "\n",
    "print(get_discounted_price(12, 100, DiscountType.WEIGHT))"
   ]
  },
  {
   "cell_type": "code",
   "execution_count": null,
   "id": "5b1c118e",
   "metadata": {},
   "outputs": [],
   "source": []
  },
  {
   "cell_type": "code",
   "execution_count": 36,
   "id": "63168448",
   "metadata": {},
   "outputs": [
    {
     "name": "stdout",
     "output_type": "stream",
     "text": [
      "[0, 1, 2, 2, 3, 5]\n"
     ]
    }
   ],
   "source": [
    "# nums1 = [1,2,3,0,0,0], m = 3, nums2 = [2,5,6], n = 3\n",
    "# Output: [1,2,2,3,5,6]\n",
    "# Explanation: The arrays we are merging are [1,2,3] and [2,5,6].\n",
    "# The result of the merge is [1,2,2,3,5,6] with the underlined elements coming from nums1.\n",
    "\n",
    "nums1 = [1,2,3,0,0,0]\n",
    "nums2 = [2,5,6]\n",
    "m = 4 \n",
    "n = 2\n",
    "\n",
    "# ans=[0,1,2,2,3,5]\n",
    "\n",
    "ans=[]\n",
    "\n",
    "def sort_array(nums1, nums2, m, n):\n",
    "    for i in range(m):\n",
    "        ans.append(nums1[i])\n",
    "        #print(nums1[i])\n",
    "\n",
    "    for j in range(n):\n",
    "        ans.append(nums2[j])\n",
    "\n",
    "    #print(ans[5])\n",
    "    \n",
    "    for k in range(len(ans)):\n",
    "        for l in range(len(ans)):\n",
    "            #print(ans[k])\n",
    "            #print(k)\n",
    "            if ans[k] < ans[l]:\n",
    "                ans[k], ans[l] = ans[l], ans[k]\n",
    "\n",
    "sort_array(nums1, nums2, m, n)\n",
    "print(ans)"
   ]
  },
  {
   "cell_type": "code",
   "execution_count": null,
   "id": "7e5b63f2",
   "metadata": {},
   "outputs": [],
   "source": []
  }
 ],
 "metadata": {
  "kernelspec": {
   "display_name": "venv3.9",
   "language": "python",
   "name": "python3"
  },
  "language_info": {
   "codemirror_mode": {
    "name": "ipython",
    "version": 3
   },
   "file_extension": ".py",
   "mimetype": "text/x-python",
   "name": "python",
   "nbconvert_exporter": "python",
   "pygments_lexer": "ipython3",
   "version": "3.9.13"
  }
 },
 "nbformat": 4,
 "nbformat_minor": 5
}
