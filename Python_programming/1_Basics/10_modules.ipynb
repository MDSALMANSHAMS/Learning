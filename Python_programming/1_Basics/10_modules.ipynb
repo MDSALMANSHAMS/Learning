{
 "cells": [
  {
   "cell_type": "code",
   "execution_count": 1,
   "metadata": {},
   "outputs": [
    {
     "name": "stdout",
     "output_type": "stream",
     "text": [
      "\n",
      "Please wait a moment while I gather a list of all available modules...\n",
      "\n"
     ]
    },
    {
     "name": "stderr",
     "output_type": "stream",
     "text": [
      "C:\\Users\\Admin\\AppData\\Local\\Programs\\Python\\Python39\\lib\\pkgutil.py:93: DeprecationWarning: `torch.distributed._shard.checkpoint` will be deprecated, use `torch.distributed.checkpoint` instead\n",
      "  __import__(info.name)\n",
      "C:\\Users\\Admin\\AppData\\Local\\Programs\\Python\\Python39\\lib\\pkgutil.py:93: DeprecationWarning: `torch.distributed._sharded_tensor` will be deprecated, use `torch.distributed._shard.sharded_tensor` instead\n",
      "  __import__(info.name)\n",
      "C:\\Users\\Admin\\AppData\\Local\\Programs\\Python\\Python39\\lib\\pkgutil.py:93: DeprecationWarning: `torch.distributed._sharding_spec` will be deprecated, use `torch.distributed._shard.sharding_spec` instead\n",
      "  __import__(info.name)\n",
      "d:\\Learning\\venv3.9\\lib\\site-packages\\torch\\distributed\\algorithms\\_optimizer_overlap\\optimizer_overlap.py:12: DeprecationWarning: `TorchScript` support for functional optimizers is deprecated and will be removed in a future PyTorch release. Consider using the `torch.compile` optimizer instead.\n",
      "  from torch.distributed.optim import as_functional_optim\n",
      "W1026 09:57:41.128237 20356 Lib\\site-packages\\torch\\distributed\\elastic\\multiprocessing\\redirects.py:29] NOTE: Redirects are currently not supported in Windows or MacOs.\n"
     ]
    },
    {
     "name": "stdout",
     "output_type": "stream",
     "text": [
      "IPython             binhex              math                sympy\n",
      "PIL                 bisect              matplotlib          symtable\n",
      "__future__          builtins            matplotlib_inline   sys\n",
      "_abc                bz2                 mimetypes           sysconfig\n",
      "_aix_support        cProfile            mmap                tabnanny\n",
      "_ast                calendar            mmapfile            tarfile\n",
      "_asyncio            cgi                 mmsystem            telnetlib\n",
      "_bisect             cgitb               modulefinder        tempfile\n",
      "_blake2             chunk               mpmath              test\n",
      "_bootlocale         cmath               msilib              textwrap\n",
      "_bootsubprocess     cmd                 msvcrt              this\n",
      "_bz2                code                multiprocessing     threading\n",
      "_codecs             codecs              nest_asyncio        time\n",
      "_codecs_cn          codeop              netbios             timeit\n",
      "_codecs_hk          collections         netrc               timer\n",
      "_codecs_iso2022     colorama            networkx            tkinter\n",
      "_codecs_jp          colorsys            nntplib             token\n",
      "_codecs_kr          comm                nt                  tokenize\n",
      "_codecs_tw          commctrl            ntpath              torch\n",
      "_collections        compileall          ntsecuritycon       torchaudio\n",
      "_collections_abc    concurrent          nturl2path          torchgen\n",
      "_compat_pickle      configparser        numbers             torchvision\n",
      "_compression        contextlib          numpy               torio\n",
      "_contextvars        contextvars         odbc                tornado\n",
      "_csv                contourpy           opcode              trace\n",
      "_ctypes             copy                operator            traceback\n",
      "_ctypes_test        copyreg             optparse            tracemalloc\n",
      "_datetime           crypt               os                  traitlets\n",
      "_decimal            csv                 packaging           tty\n",
      "_distutils_hack     ctypes              parser              turtle\n",
      "_elementtree        curses              parso               turtledemo\n",
      "_functools          cv2                 pathlib             types\n",
      "_hashlib            cycler              pdb                 typing\n",
      "_heapq              dataclasses         perfmon             typing_extensions\n",
      "_imp                datetime            pickle              unicodedata\n",
      "_io                 dateutil            pickletools         unittest\n",
      "_json               dbm                 pip                 urllib\n",
      "_locale             dde                 pipes               uu\n",
      "_lsprof             debugpy             pkg_resources       uuid\n",
      "_lzma               decimal             pkgutil             venv\n",
      "_markupbase         decorator           platform            warnings\n",
      "_md5                difflib             platformdirs        wave\n",
      "_msi                dis                 plistlib            wcwidth\n",
      "_multibytecodec     distutils           poplib              weakref\n",
      "_multiprocessing    doctest             posixpath           webbrowser\n",
      "_opcode             email               pprint              win2kras\n",
      "_operator           encodings           profile             win32api\n",
      "_osx_support        ensurepip           prompt_toolkit      win32clipboard\n",
      "_overlapped         enum                pstats              win32com\n",
      "_peg_parser         errno               psutil              win32con\n",
      "_pickle             exceptiongroup      pty                 win32console\n",
      "_py_abc             executing           pure_eval           win32cred\n",
      "_pydecimal          faulthandler        py_compile          win32crypt\n",
      "_pyio               filecmp             pyclbr              win32cryptcon\n",
      "_queue              fileinput           pydoc               win32event\n",
      "_random             filelock            pydoc_data          win32evtlog\n",
      "_sha1               fnmatch             pyexpat             win32evtlogutil\n",
      "_sha256             fontTools           pygments            win32file\n",
      "_sha3               formatter           pylab               win32gui\n",
      "_sha512             fractions           pyparsing           win32gui_struct\n",
      "_signal             fsspec              pythoncom           win32help\n",
      "_sitebuiltins       ftplib              pywin               win32inet\n",
      "_socket             functools           pywin32_bootstrap   win32inetcon\n",
      "_sqlite3            functorch           pywin32_testutil    win32job\n",
      "_sre                gc                  pywintypes          win32lz\n",
      "_ssl                genericpath         queue               win32net\n",
      "_stat               getopt              quopri              win32netcon\n",
      "_statistics         getpass             random              win32pdh\n",
      "_string             gettext             rasutil             win32pdhquery\n",
      "_strptime           glob                re                  win32pdhutil\n",
      "_struct             graphlib            regcheck            win32pipe\n",
      "_symtable           gzip                regutil             win32print\n",
      "_testbuffer         hashlib             reprlib             win32process\n",
      "_testcapi           heapq               rlcompleter         win32profile\n",
      "_testconsole        hmac                runpy               win32ras\n",
      "_testimportmultiple html                sched               win32rcparser\n",
      "_testinternalcapi   http                secrets             win32security\n",
      "_testmultiphase     idlelib             select              win32service\n",
      "_thread             imaplib             selectors           win32serviceutil\n",
      "_threading_local    imghdr              servicemanager      win32timezone\n",
      "_tkinter            imp                 setuptools          win32trace\n",
      "_tracemalloc        importlib           shelve              win32traceutil\n",
      "_uuid               importlib_metadata  shlex               win32transaction\n",
      "_warnings           importlib_resources shutil              win32ts\n",
      "_weakref            inspect             signal              win32ui\n",
      "_weakrefset         io                  site                win32uiole\n",
      "_win32sysloader     ipaddress           six                 win32verstamp\n",
      "_win32verstamp_pywin32ctypes ipykernel           smtpd               win32wnet\n",
      "_winapi             ipykernel_launcher  smtplib             winerror\n",
      "_winxptheme         isapi               sndhdr              winioctlcon\n",
      "_xxsubinterpreters  isympy              socket              winnt\n",
      "_zoneinfo           itertools           socketserver        winperf\n",
      "abc                 jedi                sqlite3             winreg\n",
      "adodbapi            jinja2              sre_compile         winsound\n",
      "afxres              json                sre_constants       winxpgui\n",
      "aifc                jupyter             sre_parse           winxptheme\n",
      "antigravity         jupyter_client      ssl                 wsgiref\n",
      "argparse            jupyter_core        sspi                xdrlib\n",
      "array               keyword             sspicon             xml\n",
      "ast                 kiwisolver          stack_data          xmlrpc\n",
      "asttokens           lib2to3             start_pythonwin     xxsubtype\n",
      "asynchat            linecache           stat                zipapp\n",
      "asyncio             locale              statistics          zipfile\n",
      "asyncore            logging             string              zipimport\n",
      "atexit              lzma                stringprep          zipp\n",
      "audioop             mailbox             struct              zlib\n",
      "base64              mailcap             subprocess          zmq\n",
      "bdb                 markupsafe          sunau               zoneinfo\n",
      "binascii            marshal             symbol              \n",
      "\n",
      "Enter any module name to get more help.  Or, type \"modules spam\" to search\n",
      "for modules whose name or summary contain the string \"spam\".\n",
      "\n"
     ]
    }
   ],
   "source": [
    "help('modules')"
   ]
  },
  {
   "cell_type": "code",
   "execution_count": 3,
   "metadata": {},
   "outputs": [],
   "source": [
    "# math\n",
    "import math"
   ]
  },
  {
   "cell_type": "code",
   "execution_count": 4,
   "metadata": {},
   "outputs": [
    {
     "data": {
      "text/plain": [
       "3.141592653589793"
      ]
     },
     "execution_count": 4,
     "metadata": {},
     "output_type": "execute_result"
    }
   ],
   "source": [
    "math.pi"
   ]
  },
  {
   "cell_type": "code",
   "execution_count": 5,
   "metadata": {},
   "outputs": [
    {
     "data": {
      "text/plain": [
       "6"
      ]
     },
     "execution_count": 5,
     "metadata": {},
     "output_type": "execute_result"
    }
   ],
   "source": [
    "math.factorial(3)"
   ]
  },
  {
   "cell_type": "code",
   "execution_count": 6,
   "metadata": {},
   "outputs": [
    {
     "data": {
      "text/plain": [
       "10.0"
      ]
     },
     "execution_count": 6,
     "metadata": {},
     "output_type": "execute_result"
    }
   ],
   "source": [
    "math.sqrt(100)"
   ]
  },
  {
   "cell_type": "code",
   "execution_count": 7,
   "metadata": {},
   "outputs": [],
   "source": [
    "import random"
   ]
  },
  {
   "cell_type": "code",
   "execution_count": 8,
   "metadata": {},
   "outputs": [
    {
     "data": {
      "text/plain": [
       "8"
      ]
     },
     "execution_count": 8,
     "metadata": {},
     "output_type": "execute_result"
    }
   ],
   "source": [
    "random.randint(0,10)"
   ]
  },
  {
   "cell_type": "code",
   "execution_count": 10,
   "metadata": {},
   "outputs": [
    {
     "data": {
      "text/plain": [
       "[1, 4, 8, 7, 5, 6, 9, 3, 2]"
      ]
     },
     "execution_count": 10,
     "metadata": {},
     "output_type": "execute_result"
    }
   ],
   "source": [
    "a=[1,2,3,4,5,6,7,8,9]\n",
    "random.shuffle(a)\n",
    "a"
   ]
  },
  {
   "cell_type": "code",
   "execution_count": 11,
   "metadata": {},
   "outputs": [],
   "source": [
    "import time"
   ]
  },
  {
   "cell_type": "code",
   "execution_count": 12,
   "metadata": {},
   "outputs": [
    {
     "data": {
      "text/plain": [
       "1729917125.3770597"
      ]
     },
     "execution_count": 12,
     "metadata": {},
     "output_type": "execute_result"
    }
   ],
   "source": [
    "time.time()"
   ]
  },
  {
   "cell_type": "code",
   "execution_count": 14,
   "metadata": {},
   "outputs": [
    {
     "data": {
      "text/plain": [
       "'Sat Oct 26 10:02:26 2024'"
      ]
     },
     "execution_count": 14,
     "metadata": {},
     "output_type": "execute_result"
    }
   ],
   "source": [
    "time.ctime()"
   ]
  },
  {
   "cell_type": "code",
   "execution_count": 15,
   "metadata": {},
   "outputs": [
    {
     "name": "stdout",
     "output_type": "stream",
     "text": [
      "hello\n",
      "world\n"
     ]
    }
   ],
   "source": [
    "print(\"hello\")\n",
    "time.sleep(5)\n",
    "print(\"world\")"
   ]
  },
  {
   "cell_type": "code",
   "execution_count": 16,
   "metadata": {},
   "outputs": [],
   "source": [
    "import os"
   ]
  },
  {
   "cell_type": "code",
   "execution_count": 17,
   "metadata": {},
   "outputs": [
    {
     "data": {
      "text/plain": [
       "'d:\\\\Learning\\\\Python_programming\\\\1_Basics'"
      ]
     },
     "execution_count": 17,
     "metadata": {},
     "output_type": "execute_result"
    }
   ],
   "source": [
    "os.getcwd()"
   ]
  },
  {
   "cell_type": "code",
   "execution_count": 18,
   "metadata": {},
   "outputs": [
    {
     "data": {
      "text/plain": [
       "['10_modules.ipynb',\n",
       " '1_print.ipynb',\n",
       " '2_data_type.ipynb',\n",
       " '3_variables.ipynb',\n",
       " '4_user_input.ipynb',\n",
       " '5_literals_operators.ipynb',\n",
       " '6_if_else.ipynb',\n",
       " '7_loop.ipynb',\n",
       " '8_gurssing_game.ipynb',\n",
       " '9_statements.ipynb']"
      ]
     },
     "execution_count": 18,
     "metadata": {},
     "output_type": "execute_result"
    }
   ],
   "source": [
    "os.listdir()"
   ]
  },
  {
   "cell_type": "code",
   "execution_count": null,
   "metadata": {},
   "outputs": [],
   "source": []
  }
 ],
 "metadata": {
  "kernelspec": {
   "display_name": "venv3.9",
   "language": "python",
   "name": "python3"
  },
  "language_info": {
   "codemirror_mode": {
    "name": "ipython",
    "version": 3
   },
   "file_extension": ".py",
   "mimetype": "text/x-python",
   "name": "python",
   "nbconvert_exporter": "python",
   "pygments_lexer": "ipython3",
   "version": "3.9.13"
  }
 },
 "nbformat": 4,
 "nbformat_minor": 2
}
