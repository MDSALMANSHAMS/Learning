{
 "cells": [
  {
   "cell_type": "code",
   "execution_count": 2,
   "metadata": {},
   "outputs": [],
   "source": [
    "import numpy as np"
   ]
  },
  {
   "cell_type": "code",
   "execution_count": null,
   "metadata": {},
   "outputs": [
    {
     "data": {
      "text/plain": [
       "array(4)"
      ]
     },
     "execution_count": 6,
     "metadata": {},
     "output_type": "execute_result"
    }
   ],
   "source": [
    "arr = np.array(4)\n",
    "arr"
   ]
  },
  {
   "cell_type": "code",
   "execution_count": 33,
   "metadata": {},
   "outputs": [
    {
     "name": "stdout",
     "output_type": "stream",
     "text": [
      "1D Array: [1 2 3] data type <class 'numpy.int64'>\n",
      "2D Array: [[1 2]\n",
      " [3 4]]\n",
      "Array of zeros (2x3): [[0. 0. 0.]\n",
      " [0. 0. 0.]]\n",
      "Array of ones (3x3): [1. 1. 1.] data type <class 'numpy.float64'>\n",
      "Array with a range of values from 0 to 10 (step 2): [1 3 5 7 9]\n",
      "Linearly spaced values between 0 and 1 (5 points): [0.   0.25 0.5  0.75 1.  ]\n"
     ]
    }
   ],
   "source": [
    "import numpy as np\n",
    "\n",
    "# 1D array\n",
    "a = np.array([1, 2, 3])\n",
    "print(\"1D Array:\", a,\"data type\",type(a[0]))\n",
    "\n",
    "# 2D array\n",
    "b = np.array([[1, 2], [3, 4]])\n",
    "print(\"2D Array:\", b)\n",
    "\n",
    "# Array of zeros\n",
    "c = np.zeros((2, 3))\n",
    "print(\"Array of zeros (2x3):\", c)\n",
    "\n",
    "# Array of ones\n",
    "d = np.ones((3))\n",
    "print(\"Array of ones (3x3):\", d,\"data type\",type(d[0]))\n",
    "\n",
    "# Array with a range of values\n",
    "e = np.arange(1, 10, 2)  # start, stop, step\n",
    "print(\"Array with a range of values from 0 to 10 (step 2):\", e)\n",
    "\n",
    "# Linearly spaced values\n",
    "f = np.linspace(0, 1, 5)  # start, stop, number of points\n",
    "print(\"Linearly spaced values between 0 and 1 (5 points):\", f)\n"
   ]
  },
  {
   "cell_type": "markdown",
   "metadata": {},
   "source": []
  },
  {
   "cell_type": "code",
   "execution_count": 28,
   "metadata": {},
   "outputs": [
    {
     "name": "stdout",
     "output_type": "stream",
     "text": [
      "First element: 10\n",
      "Last element: 50\n",
      "Elements from index 1 to 3: [20 30 40]\n",
      "First three elements: [10 20 30]\n",
      "Every second element: [20 40]\n"
     ]
    }
   ],
   "source": [
    "arr = np.array([10, 20, 30, 40, 50])\n",
    "\n",
    "# Accessing elements\n",
    "print(\"First element:\", arr[0])  \n",
    "print(\"Last element:\", arr[-1]) \n",
    "\n",
    "# Slicing\n",
    "print(\"Elements from index 1 to 3:\", arr[1:4]) \n",
    "print(\"First three elements:\", arr[:3])   \n",
    "print(\"Every second element:\", arr[1::2])  \n"
   ]
  },
  {
   "cell_type": "markdown",
   "metadata": {},
   "source": [
    "# basic operations"
   ]
  },
  {
   "cell_type": "code",
   "execution_count": 29,
   "metadata": {},
   "outputs": [
    {
     "name": "stdout",
     "output_type": "stream",
     "text": [
      "Element-wise addition: [5 7 9]\n",
      "Element-wise subtraction: [-3 -3 -3]\n",
      "Element-wise multiplication: [ 4 10 18]\n",
      "Multiply each element of x by 2: [2 4 6]\n",
      "Square root of each element in x: [1.         1.41421356 1.73205081]\n",
      "Sum of elements in x: 6\n"
     ]
    }
   ],
   "source": [
    "x = np.array([1, 2, 3])\n",
    "y = np.array([4, 5, 6])\n",
    "\n",
    "# Element-wise addition, subtraction, multiplication\n",
    "print(\"Element-wise addition:\", x + y)  \n",
    "print(\"Element-wise subtraction:\", x - y)  \n",
    "print(\"Element-wise multiplication:\", x * y)  \n",
    "\n",
    "# Scalar operations\n",
    "print(\"Multiply each element of x by 2:\", x * 2)   \n",
    "\n",
    "# Mathematical functions\n",
    "print(\"Square root of each element in x:\", np.sqrt(x))  \n",
    "print(\"Sum of elements in x:\", np.sum(x))  \n"
   ]
  },
  {
   "cell_type": "markdown",
   "metadata": {},
   "source": [
    "4. Shape and Reshaping\n",
    "python\n",
    "Copy code\n"
   ]
  },
  {
   "cell_type": "code",
   "execution_count": 48,
   "metadata": {},
   "outputs": [
    {
     "name": "stdout",
     "output_type": "stream",
     "text": [
      "Shape of the array: (4, 3)\n",
      "Array reshaped to 3x2: [[ 1  2  3]\n",
      " [ 4  5  6]\n",
      " [ 7  8  9]\n",
      " [10 11 12]]\n",
      "Flattened array: [ 1  2  3  4  5  6  7  8  9 10 11 12]\n"
     ]
    }
   ],
   "source": [
    "arr = np.array([[1, 2, 3], [4, 5, 6], [7, 8, 9],[10, 11, 12]])\n",
    "\n",
    "# Shape of the array\n",
    "print(\"Shape of the array:\", arr.shape)  \n",
    "\n",
    "# Reshape the array\n",
    "reshaped = arr.reshape((4,3))\n",
    "print(\"Array reshaped to 3x2:\", reshaped)\n",
    "\n",
    "# Flatten the array\n",
    "flat = arr.flatten()\n",
    "print(\"Flattened array:\", flat)\n"
   ]
  },
  {
   "cell_type": "code",
   "execution_count": 50,
   "metadata": {},
   "outputs": [
    {
     "name": "stdout",
     "output_type": "stream",
     "text": [
      "Random array (values between 0 and 1): [[0.14655968 0.36752952 0.58483276]\n",
      " [0.43438575 0.94382631 0.5076335 ]\n",
      " [0.71768662 0.50215194 0.81065898]]\n",
      "Random integers (range 0 to 10): [[0 0]\n",
      " [9 2]]\n",
      "Random values from a normal distribution: [1.84268225 1.11705116 0.52059377]\n"
     ]
    }
   ],
   "source": [
    "# Random values between 0 and 1\n",
    "rand = np.random.rand(3, 3)\n",
    "print(\"Random array (values between 0 and 1):\", rand)\n",
    "\n",
    "# Random integers\n",
    "rand_int = np.random.randint(0, 10, (2, 2))  # range, shape\n",
    "print(\"Random integers (range 0 to 10):\", rand_int)\n",
    "\n",
    "# Normal distribution\n",
    "rand_norm = np.random.randn(3)\n",
    "print(\"Random values from a normal distribution:\", rand_norm)\n"
   ]
  },
  {
   "cell_type": "code",
   "execution_count": null,
   "metadata": {},
   "outputs": [],
   "source": []
  }
 ],
 "metadata": {
  "kernelspec": {
   "display_name": "venv3.9",
   "language": "python",
   "name": "python3"
  },
  "language_info": {
   "codemirror_mode": {
    "name": "ipython",
    "version": 3
   },
   "file_extension": ".py",
   "mimetype": "text/x-python",
   "name": "python",
   "nbconvert_exporter": "python",
   "pygments_lexer": "ipython3",
   "version": "3.9.13"
  }
 },
 "nbformat": 4,
 "nbformat_minor": 2
}
