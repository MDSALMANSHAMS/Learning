{
 "cells": [
  {
   "cell_type": "code",
   "execution_count": null,
   "id": "2f58d91c",
   "metadata": {},
   "outputs": [],
   "source": []
  },
  {
   "cell_type": "code",
   "execution_count": 1,
   "id": "b1245145",
   "metadata": {},
   "outputs": [
    {
     "name": "stdout",
     "output_type": "stream",
     "text": [
      "160\n"
     ]
    }
   ],
   "source": [
    "def f(a,b):\n",
    "    if (a==0):\n",
    "        return b\n",
    "    \n",
    "    if (a%2==1):\n",
    "        return 2*f((a-1)/2,b)\n",
    "    \n",
    "    return b+f(a-1,b)\n",
    "\n",
    "print(f(15,10))"
   ]
  },
  {
   "cell_type": "code",
   "execution_count": null,
   "id": "f332422b",
   "metadata": {},
   "outputs": [],
   "source": [
    "# f(15,10) = 2*f(7,10) = 160\n",
    "# f(7,10) = 2*f(3,10) = 80\n",
    "# f(3,10) = 2*f(1,10) = 40\n",
    "# f(1,10) = 2*f(0,10) = 20\n",
    "# f(0,10) = 10"
   ]
  },
  {
   "cell_type": "code",
   "execution_count": 2,
   "id": "96ad1304",
   "metadata": {},
   "outputs": [
    {
     "data": {
      "text/plain": [
       "1"
      ]
     },
     "execution_count": 2,
     "metadata": {},
     "output_type": "execute_result"
    }
   ],
   "source": [
    "1%2"
   ]
  },
  {
   "cell_type": "code",
   "execution_count": null,
   "id": "28ea85f6",
   "metadata": {},
   "outputs": [],
   "source": []
  }
 ],
 "metadata": {
  "kernelspec": {
   "display_name": "venv3.9",
   "language": "python",
   "name": "python3"
  },
  "language_info": {
   "codemirror_mode": {
    "name": "ipython",
    "version": 3
   },
   "file_extension": ".py",
   "mimetype": "text/x-python",
   "name": "python",
   "nbconvert_exporter": "python",
   "pygments_lexer": "ipython3",
   "version": "3.9.13"
  }
 },
 "nbformat": 4,
 "nbformat_minor": 5
}
