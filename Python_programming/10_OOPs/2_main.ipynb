{
 "cells": [
  {
   "cell_type": "code",
   "execution_count": 1,
   "metadata": {},
   "outputs": [],
   "source": [
    "# Method vs function\n",
    "\n",
    "l=[1,2,3]\n",
    "len(l) # function\n",
    "l.append(4) # method"
   ]
  },
  {
   "cell_type": "code",
   "execution_count": null,
   "metadata": {},
   "outputs": [],
   "source": [
    "# Magic methods \n",
    "# __init__\n",
    "# __name__"
   ]
  },
  {
   "cell_type": "code",
   "execution_count": 1,
   "metadata": {},
   "outputs": [
    {
     "name": "stdout",
     "output_type": "stream",
     "text": [
      "Hello, Salman!\n",
      "Hello, Ali!\n"
     ]
    }
   ],
   "source": [
    "\"\"\" \n",
    "Self:\n",
    "In Python, self is a reference to the current instance of the class. \n",
    "self establishes the connection between the methods and attributes of a class by linking them to the specific instance of the class.\n",
    "\"\"\"\n",
    "\n",
    "class MyClass:\n",
    "    def __init__(self, name):\n",
    "        self.name = name  # Assigns 'name' to the instance\n",
    "\n",
    "    def greet(self):\n",
    "        return f\"Hello, {self.name}!\"  # Accesses the instance's 'name'\n",
    "\n",
    "# Create two instances\n",
    "obj1 = MyClass(\"Salman\")\n",
    "obj2 = MyClass(\"Ali\")\n",
    "\n",
    "# 'self' ensures each object retains its own data\n",
    "print(obj1.greet())  # Output: Hello, Salman!\n",
    "print(obj2.greet())  # Output: Hello, Ali!"
   ]
  },
  {
   "cell_type": "code",
   "execution_count": null,
   "metadata": {},
   "outputs": [],
   "source": []
  },
  {
   "cell_type": "markdown",
   "metadata": {},
   "source": [
    "### Extra "
   ]
  },
  {
   "cell_type": "code",
   "execution_count": 7,
   "metadata": {},
   "outputs": [],
   "source": [
    "class name:\n",
    "    def __init__(self, name):\n",
    "        self.name = name\n",
    "\n",
    "    def greet(self):\n",
    "        print(\"Hi\", self.name)\n"
   ]
  },
  {
   "cell_type": "code",
   "execution_count": 8,
   "metadata": {},
   "outputs": [],
   "source": [
    "myname=name(\"salman\")"
   ]
  },
  {
   "cell_type": "code",
   "execution_count": 9,
   "metadata": {},
   "outputs": [
    {
     "name": "stdout",
     "output_type": "stream",
     "text": [
      "Hi salman\n"
     ]
    }
   ],
   "source": [
    "myname.greet() # Output: Hello"
   ]
  },
  {
   "cell_type": "code",
   "execution_count": null,
   "metadata": {},
   "outputs": [],
   "source": []
  }
 ],
 "metadata": {
  "kernelspec": {
   "display_name": "venv3.9",
   "language": "python",
   "name": "python3"
  },
  "language_info": {
   "codemirror_mode": {
    "name": "ipython",
    "version": 3
   },
   "file_extension": ".py",
   "mimetype": "text/x-python",
   "name": "python",
   "nbconvert_exporter": "python",
   "pygments_lexer": "ipython3",
   "version": "3.9.13"
  }
 },
 "nbformat": 4,
 "nbformat_minor": 2
}
