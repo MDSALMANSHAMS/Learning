{
 "cells": [
  {
   "cell_type": "code",
   "execution_count": 1,
   "metadata": {},
   "outputs": [],
   "source": [
    "import torch"
   ]
  },
  {
   "cell_type": "code",
   "execution_count": 3,
   "metadata": {},
   "outputs": [
    {
     "data": {
      "text/plain": [
       "tensor([[0.9325, 0.8089, 0.3423, 0.9657],\n",
       "        [0.0457, 0.5548, 0.8519, 0.0861],\n",
       "        [0.5726, 0.9126, 0.2669, 0.2535],\n",
       "        [0.3247, 0.9887, 0.6183, 0.5401]])"
      ]
     },
     "execution_count": 3,
     "metadata": {},
     "output_type": "execute_result"
    }
   ],
   "source": [
    "t1=torch.rand(4,4)\n",
    "t1"
   ]
  },
  {
   "cell_type": "code",
   "execution_count": 6,
   "metadata": {},
   "outputs": [
    {
     "data": {
      "text/plain": [
       "tensor([[[0.9325, 0.8089],\n",
       "         [0.3423, 0.9657],\n",
       "         [0.0457, 0.5548],\n",
       "         [0.8519, 0.0861]],\n",
       "\n",
       "        [[0.5726, 0.9126],\n",
       "         [0.2669, 0.2535],\n",
       "         [0.3247, 0.9887],\n",
       "         [0.6183, 0.5401]]])"
      ]
     },
     "execution_count": 6,
     "metadata": {},
     "output_type": "execute_result"
    }
   ],
   "source": [
    "t1.reshape(2,4,2)"
   ]
  },
  {
   "cell_type": "code",
   "execution_count": 8,
   "metadata": {},
   "outputs": [
    {
     "data": {
      "text/plain": [
       "tensor([0.9325, 0.8089, 0.3423, 0.9657, 0.0457, 0.5548, 0.8519, 0.0861, 0.5726,\n",
       "        0.9126, 0.2669, 0.2535, 0.3247, 0.9887, 0.6183, 0.5401])"
      ]
     },
     "execution_count": 8,
     "metadata": {},
     "output_type": "execute_result"
    }
   ],
   "source": [
    "t1.flatten()"
   ]
  },
  {
   "cell_type": "code",
   "execution_count": 17,
   "metadata": {},
   "outputs": [
    {
     "name": "stdout",
     "output_type": "stream",
     "text": [
      "torch.Size([226, 226, 3])\n",
      "torch.Size([1, 226, 226, 3])\n"
     ]
    }
   ],
   "source": [
    "t2=torch.randint(low=0, high=256, size=(226,226,3))\n",
    "print(t2.shape)\n",
    "\n",
    "t2.unsqueeze_(0)\n",
    "print(t2.shape)"
   ]
  },
  {
   "cell_type": "code",
   "execution_count": null,
   "metadata": {},
   "outputs": [],
   "source": []
  }
 ],
 "metadata": {
  "kernelspec": {
   "display_name": "venv3.9",
   "language": "python",
   "name": "python3"
  },
  "language_info": {
   "codemirror_mode": {
    "name": "ipython",
    "version": 3
   },
   "file_extension": ".py",
   "mimetype": "text/x-python",
   "name": "python",
   "nbconvert_exporter": "python",
   "pygments_lexer": "ipython3",
   "version": "3.9.13"
  }
 },
 "nbformat": 4,
 "nbformat_minor": 2
}
