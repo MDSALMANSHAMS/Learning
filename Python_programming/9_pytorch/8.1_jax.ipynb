{
 "cells": [
  {
   "cell_type": "code",
   "execution_count": 1,
   "metadata": {},
   "outputs": [
    {
     "name": "stdout",
     "output_type": "stream",
     "text": [
      "[CpuDevice(id=0)]\n",
      "6.0\n"
     ]
    }
   ],
   "source": [
    "import jax\n",
    "import jax.numpy as jnp\n",
    "\n",
    "# Print JAX device information\n",
    "print(jax.devices())\n",
    "\n",
    "# Test a computation\n",
    "x = jnp.array([1.0, 2.0, 3.0])\n",
    "print(jax.numpy.sum(x))\n"
   ]
  },
  {
   "cell_type": "code",
   "execution_count": 2,
   "metadata": {},
   "outputs": [
    {
     "name": "stdout",
     "output_type": "stream",
     "text": [
      "JAX Array (Method 1): [1. 2. 3.]\n",
      "JAX Array (Method 2): [1. 2. 3.]\n"
     ]
    }
   ],
   "source": [
    "import numpy as np\n",
    "import jax.numpy as jnp\n",
    "\n",
    "# Create a NumPy array\n",
    "numpy_array = np.array([1.0, 2.0, 3.0])\n",
    "\n",
    "# Method 1: Use jax.numpy.array()\n",
    "jax_array_1 = jnp.array(numpy_array)\n",
    "print(\"JAX Array (Method 1):\", jax_array_1)\n",
    "\n",
    "# Method 2: Use jax.device_put()\n",
    "jax_array_2 = jax.device_put(numpy_array)\n",
    "print(\"JAX Array (Method 2):\", jax_array_2)"
   ]
  },
  {
   "cell_type": "code",
   "execution_count": null,
   "metadata": {},
   "outputs": [],
   "source": []
  }
 ],
 "metadata": {
  "kernelspec": {
   "display_name": "venv3.9",
   "language": "python",
   "name": "python3"
  },
  "language_info": {
   "codemirror_mode": {
    "name": "ipython",
    "version": 3
   },
   "file_extension": ".py",
   "mimetype": "text/x-python",
   "name": "python",
   "nbconvert_exporter": "python",
   "pygments_lexer": "ipython3",
   "version": "3.9.13"
  }
 },
 "nbformat": 4,
 "nbformat_minor": 2
}
