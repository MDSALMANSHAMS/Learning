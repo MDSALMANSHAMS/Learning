{
 "cells": [
  {
   "cell_type": "code",
   "execution_count": 15,
   "metadata": {},
   "outputs": [],
   "source": [
    "import numpy \n",
    "import torch"
   ]
  },
  {
   "cell_type": "code",
   "execution_count": 16,
   "metadata": {},
   "outputs": [
    {
     "data": {
      "text/plain": [
       "tensor([[0.1988, 0.0592, 0.6424],\n",
       "        [0.9056, 0.4163, 0.9495]])"
      ]
     },
     "execution_count": 16,
     "metadata": {},
     "output_type": "execute_result"
    }
   ],
   "source": [
    "t=torch.rand(2,3)\n",
    "t"
   ]
  },
  {
   "cell_type": "code",
   "execution_count": 17,
   "metadata": {},
   "outputs": [
    {
     "data": {
      "text/plain": [
       "array([[0.1987539 , 0.05915952, 0.64242655],\n",
       "       [0.9055805 , 0.41625237, 0.94954276]], dtype=float32)"
      ]
     },
     "execution_count": 17,
     "metadata": {},
     "output_type": "execute_result"
    }
   ],
   "source": [
    "t.numpy() # torch tensor to numpy array"
   ]
  },
  {
   "cell_type": "code",
   "execution_count": 18,
   "metadata": {},
   "outputs": [
    {
     "data": {
      "text/plain": [
       "array([[0, 1, 2, 3, 4],\n",
       "       [5, 6, 7, 8, 9]])"
      ]
     },
     "execution_count": 18,
     "metadata": {},
     "output_type": "execute_result"
    }
   ],
   "source": [
    "a=numpy.arange(start=0, stop=10).reshape(2,5)\n",
    "a"
   ]
  },
  {
   "cell_type": "code",
   "execution_count": 19,
   "metadata": {},
   "outputs": [
    {
     "data": {
      "text/plain": [
       "tensor([[0, 1, 2, 3, 4],\n",
       "        [5, 6, 7, 8, 9]])"
      ]
     },
     "execution_count": 19,
     "metadata": {},
     "output_type": "execute_result"
    }
   ],
   "source": [
    "torch.from_numpy(a) # numpy array to torch tensor"
   ]
  },
  {
   "cell_type": "code",
   "execution_count": null,
   "metadata": {},
   "outputs": [],
   "source": []
  },
  {
   "cell_type": "markdown",
   "metadata": {},
   "source": [
    "### torch vs numpy"
   ]
  },
  {
   "cell_type": "code",
   "execution_count": 20,
   "metadata": {},
   "outputs": [
    {
     "name": "stdout",
     "output_type": "stream",
     "text": [
      "initialization time:  0.04360389709472656 sec\n",
      "torch multiplication time:  7.660017013549805 sec\n",
      "conversion time:  0.0 sec\n",
      "numpy multiplication time:  4.19208025932312 sec\n",
      "conversion time:  4.222233533859253 sec\n",
      "jax multiplication time:  0.13928580284118652 sec\n"
     ]
    }
   ],
   "source": [
    "import time\n",
    "import jax.numpy as jnp\n",
    "\n",
    "size=1200\n",
    "\n",
    "#initialize\n",
    "start_time = time.time()\n",
    "t1=torch.randint(-100,100,(size, size))\n",
    "t2=torch.randint(-100,100,(size, size))\n",
    "\n",
    "mid_time=time.time()\n",
    "print(\"initialization time: \", mid_time-start_time, \"sec\")\n",
    "\n",
    "# multiplication\n",
    "torch.matmul(input=t1, other=t2)\n",
    "\n",
    "end_time=time.time()\n",
    "print(\"torch multiplication time: \", end_time-mid_time, \"sec\")\n",
    "\n",
    "#convert\n",
    "a1=t1.numpy()\n",
    "a2=t2.numpy()\n",
    "\n",
    "arr_start=time.time()\n",
    "print(\"conversion time: \", arr_start-end_time, \"sec\")\n",
    "\n",
    "# multiplication\n",
    "numpy.matmul(a1, a2)\n",
    "\n",
    "end_a_time = time.time()\n",
    "print(\"numpy multiplication time: \", end_a_time-arr_start, \"sec\")\n",
    "\n",
    "#convert to jax\n",
    "j1=jnp.array(a1)\n",
    "j2=jnp.array(a2)\n",
    "\n",
    "arr_start=time.time()\n",
    "print(\"conversion time: \", arr_start-end_time, \"sec\")\n",
    "\n",
    "# multiplication\n",
    "jnp.matmul(j1, j2)\n",
    "\n",
    "end_a_time = time.time()\n",
    "print(\"jax multiplication time: \", end_a_time-arr_start, \"sec\")"
   ]
  },
  {
   "cell_type": "code",
   "execution_count": 24,
   "metadata": {},
   "outputs": [
    {
     "name": "stdout",
     "output_type": "stream",
     "text": [
      "Initialization time (PyTorch): 0.05354499816894531 sec\n",
      "PyTorch multiplication time: 8.505818843841553 sec\n",
      "Conversion to NumPy time: 0.0019516944885253906 sec\n",
      "NumPy multiplication time: 4.5574791431427 sec\n",
      "Conversion to JAX time: 0.011815786361694336 sec\n",
      "JAX multiplication time: 0.14835262298583984 sec\n"
     ]
    }
   ],
   "source": [
    "import time\n",
    "import torch\n",
    "import numpy as np\n",
    "import jax.numpy as jnp\n",
    "\n",
    "# Matrix size\n",
    "size = 1200\n",
    "\n",
    "# ====================== Initialization ======================\n",
    "start_time = time.time()\n",
    "\n",
    "# Initialize random tensors in PyTorch\n",
    "t1 = torch.randint(-100, 100, (size, size))\n",
    "t2 = torch.randint(-100, 100, (size, size))\n",
    "\n",
    "init_time = time.time()\n",
    "print(\"Initialization time (PyTorch):\", init_time - start_time, \"sec\")\n",
    "\n",
    "# ====================== PyTorch Multiplication ======================\n",
    "# Perform matrix multiplication in PyTorch\n",
    "torch.matmul(t1, t2)\n",
    "\n",
    "torch_time = time.time()\n",
    "print(\"PyTorch multiplication time:\", torch_time - init_time, \"sec\")\n",
    "\n",
    "# ====================== Conversion to NumPy ======================\n",
    "# Convert PyTorch tensors to NumPy arrays\n",
    "a1 = t1.numpy()\n",
    "a2 = t2.numpy()\n",
    "\n",
    "conversion_time_numpy = time.time()\n",
    "print(\"Conversion to NumPy time:\", conversion_time_numpy - torch_time, \"sec\")\n",
    "\n",
    "# ====================== NumPy Multiplication ======================\n",
    "# Perform matrix multiplication in NumPy\n",
    "np.matmul(a1, a2)\n",
    "\n",
    "numpy_time = time.time()\n",
    "print(\"NumPy multiplication time:\", numpy_time - conversion_time_numpy, \"sec\")\n",
    "\n",
    "# ====================== Conversion to JAX ======================\n",
    "# Convert NumPy arrays to JAX arrays\n",
    "j1 = jnp.array(a1)\n",
    "j2 = jnp.array(a2)\n",
    "\n",
    "conversion_time_jax = time.time()\n",
    "print(\"Conversion to JAX time:\", conversion_time_jax - numpy_time, \"sec\")\n",
    "\n",
    "# ====================== JAX Multiplication ======================\n",
    "# Perform matrix multiplication in JAX\n",
    "jnp.matmul(j1, j2)\n",
    "\n",
    "jax_time = time.time()\n",
    "print(\"JAX multiplication time:\", jax_time - conversion_time_jax, \"sec\")\n"
   ]
  },
  {
   "cell_type": "code",
   "execution_count": 29,
   "metadata": {},
   "outputs": [
    {
     "name": "stdout",
     "output_type": "stream",
     "text": [
      "m\n",
      "a\n"
     ]
    },
    {
     "name": "stderr",
     "output_type": "stream",
     "text": [
      "C:\\Users\\Admin\\AppData\\Local\\Temp\\ipykernel_2280\\256176021.py:1: DeprecationWarning: __array_wrap__ must accept context and return_scalar arguments (positionally) in the future. (Deprecated NumPy 2.0)\n",
      "  numpy.matmul(t1, t2)\n"
     ]
    }
   ],
   "source": [
    "numpy.matmul(t1, t2)\n",
    "print(\"m\")\n",
    "\n",
    "jnp.matmul(a1, a2)\n",
    "print(\"a\")"
   ]
  },
  {
   "cell_type": "code",
   "execution_count": null,
   "metadata": {},
   "outputs": [],
   "source": []
  }
 ],
 "metadata": {
  "kernelspec": {
   "display_name": "venv3.9",
   "language": "python",
   "name": "python3"
  },
  "language_info": {
   "codemirror_mode": {
    "name": "ipython",
    "version": 3
   },
   "file_extension": ".py",
   "mimetype": "text/x-python",
   "name": "python",
   "nbconvert_exporter": "python",
   "pygments_lexer": "ipython3",
   "version": "3.9.13"
  }
 },
 "nbformat": 4,
 "nbformat_minor": 2
}
