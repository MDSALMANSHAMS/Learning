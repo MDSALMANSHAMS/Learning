{
 "cells": [
  {
   "cell_type": "code",
   "execution_count": null,
   "id": "b3158455",
   "metadata": {},
   "outputs": [],
   "source": []
  },
  {
   "cell_type": "code",
   "execution_count": null,
   "id": "5a672777",
   "metadata": {},
   "outputs": [],
   "source": [
    "''' \n",
    "A Graph is a non-linear data structure consisting of nodes (also called vertices) and connections between them (called edges). \n",
    "Graphs can be:\n",
    "Directed:- Edges have direction (A → B).\n",
    "Undirected:- Edges have no direction (A ↔ B).\n",
    "\n",
    "Common representations:\n",
    "Adjacency Matrix:- A 2D array storing edge existence between vertices.\n",
    "Adjacency List:- Lists all neighbors for each vertex.\n",
    "\n",
    "Operations and Use Cases:\n",
    "Traversal:- Breadth-First Search (BFS), Depth-First Search (DFS)\n",
    "Pathfinding:- Shortest Path (Dijkstra, Bellman-Ford, A*)\n",
    "Cycle detection\n",
    "Social Networks\n",
    "Recommendation Systems\n",
    "\n",
    "'''"
   ]
  },
  {
   "cell_type": "code",
   "execution_count": null,
   "id": "e82f04f9",
   "metadata": {},
   "outputs": [],
   "source": []
  },
  {
   "cell_type": "markdown",
   "id": "801a2cab",
   "metadata": {},
   "source": [
    "### Graph 1"
   ]
  },
  {
   "cell_type": "code",
   "execution_count": 1,
   "id": "c3a5a045",
   "metadata": {},
   "outputs": [],
   "source": [
    "class Graph:\n",
    "    def __init__(self):\n",
    "        self.adj_list = {}\n",
    "\n",
    "    def add_vertex(self, vertex):\n",
    "        if vertex not in self.adj_list:\n",
    "            self.adj_list[vertex] = []\n",
    "\n",
    "    def add_edge(self, v1, v2, directed=False):\n",
    "        self.add_vertex(v1)\n",
    "        self.add_vertex(v2)\n",
    "        self.adj_list[v1].append(v2)\n",
    "        if not directed:\n",
    "            self.adj_list[v2].append(v1)\n",
    "\n",
    "    def remove_edge(self, v1, v2, directed=False):\n",
    "        if v2 in self.adj_list[v1]:\n",
    "            self.adj_list[v1].remove(v2)\n",
    "        if not directed and v1 in self.adj_list[v2]:\n",
    "            self.adj_list[v2].remove(v1)\n",
    "\n",
    "    def remove_vertex(self, vertex):\n",
    "        for v in self.adj_list:\n",
    "            if vertex in self.adj_list[v]:\n",
    "                self.adj_list[v].remove(vertex)\n",
    "        self.adj_list.pop(vertex, None)\n",
    "\n",
    "    def display(self):\n",
    "        for vertex, neighbors in self.adj_list.items():\n",
    "            print(f\"{vertex}: {neighbors}\")\n"
   ]
  },
  {
   "cell_type": "code",
   "execution_count": 2,
   "id": "37af6e09",
   "metadata": {},
   "outputs": [
    {
     "name": "stdout",
     "output_type": "stream",
     "text": [
      "A: ['B', 'C']\n",
      "B: ['A', 'C']\n",
      "C: ['A', 'B']\n"
     ]
    }
   ],
   "source": [
    "g = Graph()\n",
    "g.add_edge(\"A\", \"B\")\n",
    "g.add_edge(\"A\", \"C\")\n",
    "g.add_edge(\"B\", \"C\")\n",
    "g.display()\n"
   ]
  },
  {
   "cell_type": "code",
   "execution_count": null,
   "id": "9c2680df",
   "metadata": {},
   "outputs": [],
   "source": []
  },
  {
   "cell_type": "markdown",
   "id": "3c3ace2a",
   "metadata": {},
   "source": [
    "### Graph 2"
   ]
  },
  {
   "cell_type": "code",
   "execution_count": 6,
   "id": "5ea03a01",
   "metadata": {},
   "outputs": [],
   "source": [
    "from collections import deque\n",
    "\n",
    "class Graph:\n",
    "    def __init__(self):\n",
    "        self.adj_list = {}\n",
    "\n",
    "    def add_vertex(self, vertex):\n",
    "        if vertex not in self.adj_list:\n",
    "            self.adj_list[vertex] = []\n",
    "\n",
    "    def add_edge(self, v1, v2, directed=False):\n",
    "        self.add_vertex(v1)\n",
    "        self.add_vertex(v2)\n",
    "        self.adj_list[v1].append(v2)\n",
    "        if not directed:\n",
    "            self.adj_list[v2].append(v1)\n",
    "\n",
    "    def display(self):\n",
    "        for vertex, neighbors in self.adj_list.items():\n",
    "            print(f\"{vertex}: {neighbors}\")\n",
    "\n",
    "    def bfs(self, start):\n",
    "        visited = set()\n",
    "        queue = deque([start])\n",
    "        result = []\n",
    "\n",
    "        while queue:\n",
    "            vertex = queue.popleft()\n",
    "            if vertex not in visited:\n",
    "                visited.add(vertex)\n",
    "                result.append(vertex)\n",
    "                queue.extend(neighbor for neighbor in self.adj_list[vertex] if neighbor not in visited)\n",
    "        return result\n",
    "\n",
    "    def dfs(self, start):\n",
    "        visited = set()\n",
    "        result = []\n",
    "\n",
    "        def dfs_recursive(v):\n",
    "            if v not in visited:\n",
    "                visited.add(v)\n",
    "                result.append(v)\n",
    "                for neighbor in self.adj_list[v]:\n",
    "                    dfs_recursive(neighbor)\n",
    "\n",
    "        dfs_recursive(start)\n",
    "        return result\n"
   ]
  },
  {
   "cell_type": "code",
   "execution_count": 7,
   "id": "0bd9227e",
   "metadata": {},
   "outputs": [
    {
     "name": "stdout",
     "output_type": "stream",
     "text": [
      "Graph:\n",
      "A: ['B', 'C']\n",
      "B: ['A', 'D']\n",
      "C: ['A', 'E', 'F']\n",
      "D: ['B']\n",
      "E: ['C']\n",
      "F: ['C']\n",
      "\n",
      "BFS from A: ['A', 'B', 'C', 'D', 'E', 'F']\n",
      "DFS from A: ['A', 'B', 'D', 'C', 'E', 'F']\n"
     ]
    }
   ],
   "source": [
    "g = Graph()\n",
    "g.add_edge(\"A\", \"B\")\n",
    "g.add_edge(\"A\", \"C\")\n",
    "g.add_edge(\"B\", \"D\")\n",
    "g.add_edge(\"C\", \"E\")\n",
    "g.add_edge(\"C\", \"F\")\n",
    "\n",
    "print(\"Graph:\")\n",
    "g.display()\n",
    "\n",
    "print(\"\\nBFS from A:\", g.bfs(\"A\"))\n",
    "print(\"DFS from A:\", g.dfs(\"A\"))\n"
   ]
  },
  {
   "cell_type": "code",
   "execution_count": null,
   "id": "87f5d9b0",
   "metadata": {},
   "outputs": [],
   "source": []
  },
  {
   "cell_type": "markdown",
   "id": "ec5189b5",
   "metadata": {},
   "source": [
    "### Dijkstras Shortest Path Algorithm"
   ]
  },
  {
   "cell_type": "code",
   "execution_count": 8,
   "id": "b8bcfa08",
   "metadata": {},
   "outputs": [],
   "source": [
    "import heapq\n",
    "\n",
    "class Graph:\n",
    "    def __init__(self):\n",
    "        self.adj_list = {}  # vertex: [(neighbor, weight), ...]\n",
    "\n",
    "    def add_edge(self, u, v, weight, directed=False):\n",
    "        self.adj_list.setdefault(u, []).append((v, weight))\n",
    "        if not directed:\n",
    "            self.adj_list.setdefault(v, []).append((u, weight))\n",
    "\n",
    "    def dijkstra(self, start):\n",
    "        dist = {v: float('inf') for v in self.adj_list}\n",
    "        dist[start] = 0\n",
    "        pq = [(0, start)]  # (distance, vertex)\n",
    "\n",
    "        while pq:\n",
    "            curr_dist, u = heapq.heappop(pq)\n",
    "            if curr_dist > dist[u]:\n",
    "                continue\n",
    "            for neighbor, weight in self.adj_list[u]:\n",
    "                if dist[u] + weight < dist[neighbor]:\n",
    "                    dist[neighbor] = dist[u] + weight\n",
    "                    heapq.heappush(pq, (dist[neighbor], neighbor))\n",
    "        return dist\n"
   ]
  },
  {
   "cell_type": "code",
   "execution_count": 10,
   "id": "bdfd0f6f",
   "metadata": {},
   "outputs": [
    {
     "name": "stdout",
     "output_type": "stream",
     "text": [
      "Shortest distances from A:\n",
      "A -> A: 0\n",
      "A -> B: 5\n",
      "A -> C: 2\n",
      "A -> D: 1\n",
      "A -> E: 6\n"
     ]
    }
   ],
   "source": [
    "g = Graph()\n",
    "g.add_edge('A', 'B', 5)\n",
    "g.add_edge('A', 'C', 2)\n",
    "g.add_edge('A', 'D', 1)\n",
    "g.add_edge('B', 'C', 3)\n",
    "g.add_edge('B', 'E', 1)\n",
    "g.add_edge('C', 'E', 4)\n",
    "\n",
    "''' \n",
    "    A---5---B\n",
    "   / \\     / \\\n",
    "  1   2   3   1\n",
    " /     \\ /     \\\n",
    "D       C       E\n",
    "\n",
    "'''\n",
    "\n",
    "shortest_paths = g.dijkstra('A')\n",
    "print(\"Shortest distances from A:\")\n",
    "for vertex, distance in shortest_paths.items():\n",
    "    print(f\"A -> {vertex}: {distance}\")\n"
   ]
  },
  {
   "cell_type": "code",
   "execution_count": null,
   "id": "fb0ed1ca",
   "metadata": {},
   "outputs": [],
   "source": []
  }
 ],
 "metadata": {
  "kernelspec": {
   "display_name": "venv3.9",
   "language": "python",
   "name": "python3"
  },
  "language_info": {
   "codemirror_mode": {
    "name": "ipython",
    "version": 3
   },
   "file_extension": ".py",
   "mimetype": "text/x-python",
   "name": "python",
   "nbconvert_exporter": "python",
   "pygments_lexer": "ipython3",
   "version": "3.9.13"
  }
 },
 "nbformat": 4,
 "nbformat_minor": 5
}
