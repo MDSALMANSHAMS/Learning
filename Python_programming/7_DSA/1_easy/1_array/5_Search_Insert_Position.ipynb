{
 "cells": [
  {
   "cell_type": "code",
   "execution_count": null,
   "metadata": {},
   "outputs": [],
   "source": [
    "# Given a sorted array of distinct integers and a target value, return the index if the target is \n",
    "# found. If not, return the index where it would be if it were inserted in order. You must write an \n",
    "# algorithm with O(log n) runtime complexity.\n",
    "\n",
    "# Example 1:\n",
    "# Input: nums = [1,3,5,6], target = 5\n",
    "# Output: 2\n",
    "\n",
    "# Example 2:\n",
    "# Input: nums = [1,3,5,6], target = 2\n",
    "# Output: 1\n",
    "\n",
    "# Example 3:\n",
    "# Input: nums = [1,3,5,6], target = 7\n",
    "# Output: 4"
   ]
  },
  {
   "cell_type": "code",
   "execution_count": 12,
   "metadata": {},
   "outputs": [
    {
     "name": "stdout",
     "output_type": "stream",
     "text": [
      "4\n"
     ]
    }
   ],
   "source": [
    "nums = [1,3,5,6] \n",
    "target = 7\n",
    "\n",
    "for i in range(len(nums)):\n",
    "    if nums[i]==target:\n",
    "        print(i)\n",
    "        break\n",
    "\n",
    "    elif nums[i]-1==target:\n",
    "        print(i)\n",
    "        break\n",
    "\n",
    "    else:\n",
    "        if i==len(nums)-1:\n",
    "            print(i+1)\n"
   ]
  },
  {
   "cell_type": "code",
   "execution_count": null,
   "metadata": {},
   "outputs": [],
   "source": []
  },
  {
   "cell_type": "code",
   "execution_count": null,
   "metadata": {},
   "outputs": [],
   "source": []
  },
  {
   "cell_type": "code",
   "execution_count": null,
   "metadata": {},
   "outputs": [],
   "source": [
    "nums = [1,3,5,6]\n",
    "target = 5\n",
    "\n",
    "def search_tar(nums, target):\n",
    "    j = 0\n",
    "    if target in nums:\n",
    "        for i in range(len(nums)):\n",
    "            if nums[i] == target:\n",
    "                j=i\n",
    "\n",
    "    else:\n",
    "        for i in range(len(nums)):\n",
    "            if nums[i] > target:\n",
    "                break\n",
    "            elif i == len(nums):\n",
    "                j=j+1\n",
    "                break\n",
    "\n",
    "            else:\n",
    "                j=j+1\n",
    "\n",
    "    return j\n",
    "\n",
    "# time: O(n)\n",
    "# space: O(1)"
   ]
  },
  {
   "cell_type": "code",
   "execution_count": 34,
   "metadata": {},
   "outputs": [
    {
     "data": {
      "text/plain": [
       "2"
      ]
     },
     "execution_count": 34,
     "metadata": {},
     "output_type": "execute_result"
    }
   ],
   "source": [
    "search_tar(nums, target)"
   ]
  },
  {
   "cell_type": "code",
   "execution_count": null,
   "metadata": {},
   "outputs": [],
   "source": []
  }
 ],
 "metadata": {
  "kernelspec": {
   "display_name": "venv3.9",
   "language": "python",
   "name": "python3"
  },
  "language_info": {
   "codemirror_mode": {
    "name": "ipython",
    "version": 3
   },
   "file_extension": ".py",
   "mimetype": "text/x-python",
   "name": "python",
   "nbconvert_exporter": "python",
   "pygments_lexer": "ipython3",
   "version": "3.9.13"
  }
 },
 "nbformat": 4,
 "nbformat_minor": 2
}
