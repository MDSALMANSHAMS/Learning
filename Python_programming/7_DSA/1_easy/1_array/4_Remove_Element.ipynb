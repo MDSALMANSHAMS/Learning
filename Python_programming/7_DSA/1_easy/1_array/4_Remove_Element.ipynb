{
 "cells": [
  {
   "cell_type": "code",
   "execution_count": null,
   "metadata": {},
   "outputs": [],
   "source": [
    "# Given an integer array nums and an integer val, remove all occurrences of val in nums in-place. \n",
    "# The order of the elements may be changed. Then return the number of elements in nums which are \n",
    "# not equal to val. Consider the number of elements in nums which are not equal to val be k, to get \n",
    "# accepted, you need to do the following things:\n",
    "# Change the array nums such that the first k elements of nums contain the elements which are not equal to val. The remaining elements of nums are not important as well as the size of nums.\n",
    "# Return k. Custom Judge:\n",
    "# The judge will test your solution with the following code:\n",
    "# int[] nums = [...]; // Input array\n",
    "# int val = ...; // Value to remove\n",
    "# int[] expectedNums = [...]; // The expected answer with correct length.\n",
    "#                             // It is sorted with no values equaling val.\n",
    "# int k = removeElement(nums, val); // Calls your implementation\n",
    "# assert k == expectedNums.length;\n",
    "# sort(nums, 0, k); // Sort the first k elements of nums\n",
    "# for (int i = 0; i < actualLength; i++) {\n",
    "#     assert nums[i] == expectedNums[i];\n",
    "# }\n",
    "# If all assertions pass, then your solution will be accepted.\n",
    "\n",
    "# Example 1:\n",
    "# Input: nums = [3,2,2,3], val = 3\n",
    "# Output: 2, nums = [2,2,_,_]\n",
    "# Explanation: Your function should return k = 2, with the first two elements of nums being 2.\n",
    "# It does not matter what you leave beyond the returned k (hence they are underscores).\n",
    "\n",
    "# Example 2:\n",
    "# Input: nums = [0,1,2,2,3,0,4,2], val = 2\n",
    "# Output: 5, nums = [0,1,4,0,3,_,_,_]\n",
    "# Explanation: Your function should return k = 5, with the first five elements of nums containing 0, 0, 1, 3, and 4.\n",
    "# Note that the five elements can be returned in any order.\n",
    "# It does not matter what you leave beyond the returned k (hence they are underscores)."
   ]
  },
  {
   "cell_type": "code",
   "execution_count": null,
   "metadata": {},
   "outputs": [
    {
     "name": "stdout",
     "output_type": "stream",
     "text": [
      "[2, 2]\n"
     ]
    }
   ],
   "source": [
    "# array return\n",
    "\n",
    "nums = [3,2,2,3]\n",
    "val = 3\n",
    "temp=[]\n",
    "\n",
    "for i in range(len(nums)):\n",
    "    if nums[i]!=val:\n",
    "        temp.append(nums[i])\n",
    "\n",
    "print(temp)\n",
    "\n",
    "# time: O(n)\n",
    "# space: O(n)"
   ]
  },
  {
   "cell_type": "code",
   "execution_count": 2,
   "metadata": {},
   "outputs": [
    {
     "data": {
      "text/plain": [
       "4"
      ]
     },
     "execution_count": 2,
     "metadata": {},
     "output_type": "execute_result"
    }
   ],
   "source": [
    "len(nums)"
   ]
  },
  {
   "cell_type": "code",
   "execution_count": null,
   "metadata": {},
   "outputs": [],
   "source": []
  },
  {
   "cell_type": "code",
   "execution_count": null,
   "metadata": {},
   "outputs": [],
   "source": [
    "# length return\n",
    "nums = [0,1,2,2,3,0,4,2]\n",
    "val = 2\n",
    "\n",
    "def remove_element(nums, val):\n",
    "    j = 0\n",
    "    for i in range(len(nums)):\n",
    "        if nums[i] == val:\n",
    "            j =j+1\n",
    "\n",
    "\n",
    "    return len(nums)-j\n",
    "\n",
    "# time: O(n)\n",
    "# space: O(1)"
   ]
  },
  {
   "cell_type": "code",
   "execution_count": 9,
   "metadata": {},
   "outputs": [
    {
     "data": {
      "text/plain": [
       "5"
      ]
     },
     "execution_count": 9,
     "metadata": {},
     "output_type": "execute_result"
    }
   ],
   "source": [
    "remove_element(nums, val)"
   ]
  },
  {
   "cell_type": "code",
   "execution_count": null,
   "metadata": {},
   "outputs": [],
   "source": []
  }
 ],
 "metadata": {
  "kernelspec": {
   "display_name": "venv3.9",
   "language": "python",
   "name": "python3"
  },
  "language_info": {
   "codemirror_mode": {
    "name": "ipython",
    "version": 3
   },
   "file_extension": ".py",
   "mimetype": "text/x-python",
   "name": "python",
   "nbconvert_exporter": "python",
   "pygments_lexer": "ipython3",
   "version": "3.9.13"
  }
 },
 "nbformat": 4,
 "nbformat_minor": 2
}
