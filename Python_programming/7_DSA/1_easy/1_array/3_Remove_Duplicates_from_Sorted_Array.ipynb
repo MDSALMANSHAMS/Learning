{
 "cells": [
  {
   "cell_type": "code",
   "execution_count": null,
   "metadata": {},
   "outputs": [],
   "source": [
    "# Given an integer array nums sorted in non-decreasing order, remove the duplicates in-place such \n",
    "# that each unique element appears only once. The relative order of the elements should be kept the \n",
    "# same. Then return the number of unique elements in nums. Consider the number of unique elements \n",
    "# of nums to be k, to get accepted, you need to do the following things:\n",
    "\n",
    "# Change the array nums such that the first k elements of nums contain the unique elements in the \n",
    "# order they were present in nums initially. The remaining elements of nums are not important as \n",
    "# well as the size of nums. Return k.\n",
    "# Custom Judge:\n",
    "# The judge will test your solution with the following code:\n",
    "# int[] nums = [...]; // Input array\n",
    "# int[] expectedNums = [...]; // The expected answer with correct length\n",
    "# int k = removeDuplicates(nums); // Calls your implementation\n",
    "# assert k == expectedNums.length;\n",
    "# for (int i = 0; i < k; i++) {\n",
    "#     assert nums[i] == expectedNums[i];\n",
    "# }\n",
    "# If all assertions pass, then your solution will be accepted.\n",
    "\n",
    "# Example 1:\n",
    "# Input: nums = [1,1,2]\n",
    "# Output: 2, nums = [1,2,_]\n",
    "# Explanation: Your function should return k = 2, with the first two elements of nums being 1 and 2 respectively.\n",
    "# It does not matter what you leave beyond the returned k (hence they are underscores).\n",
    "\n",
    "# Example 2:\n",
    "# Input: nums = [0,0,1,1,1,2,2,3,3,4]\n",
    "# Output: 5, nums = [0,1,2,3,4,_,_,_,_,_]\n",
    "# Explanation: Your function should return k = 5, with the first five elements of nums being 0, 1, 2, 3, and 4 respectively.\n",
    "# It does not matter what you leave beyond the returned k (hence they are underscores)."
   ]
  },
  {
   "cell_type": "code",
   "execution_count": 36,
   "metadata": {},
   "outputs": [],
   "source": [
    "nums = [1,1,2]\n",
    "\n",
    "def romove_dup(nums):\n",
    "    j=0\n",
    "    for i in range(len(nums)-1):\n",
    "        if nums[i] == nums[i+1]:\n",
    "            j=j+1\n",
    "\n",
    "    return len(nums)-j"
   ]
  },
  {
   "cell_type": "code",
   "execution_count": 37,
   "metadata": {},
   "outputs": [],
   "source": [
    "removes = romove_dup(nums)"
   ]
  },
  {
   "cell_type": "code",
   "execution_count": 38,
   "metadata": {},
   "outputs": [
    {
     "name": "stdout",
     "output_type": "stream",
     "text": [
      "2\n"
     ]
    }
   ],
   "source": [
    "print(removes)"
   ]
  },
  {
   "cell_type": "code",
   "execution_count": null,
   "metadata": {},
   "outputs": [],
   "source": []
  }
 ],
 "metadata": {
  "kernelspec": {
   "display_name": "venv3.9",
   "language": "python",
   "name": "python3"
  },
  "language_info": {
   "codemirror_mode": {
    "name": "ipython",
    "version": 3
   },
   "file_extension": ".py",
   "mimetype": "text/x-python",
   "name": "python",
   "nbconvert_exporter": "python",
   "pygments_lexer": "ipython3",
   "version": "3.9.13"
  }
 },
 "nbformat": 4,
 "nbformat_minor": 2
}
