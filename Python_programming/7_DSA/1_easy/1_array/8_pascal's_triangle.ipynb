{
 "cells": [
  {
   "cell_type": "code",
   "execution_count": 21,
   "metadata": {},
   "outputs": [],
   "source": [
    "import numpy as np"
   ]
  },
  {
   "cell_type": "code",
   "execution_count": 39,
   "metadata": {},
   "outputs": [
    {
     "data": {
      "text/plain": [
       "[[1],\n",
       " [1, 1],\n",
       " [1, 1, 1],\n",
       " [1, 2, 1, 1],\n",
       " [1, 3, 3, 1, 1],\n",
       " [1, 4, 6, 4, 1, 1],\n",
       " [1, 5, 10, 10, 5, 1, 1],\n",
       " [1, 6, 15, 20, 15, 6, 1, 1],\n",
       " [1, 7, 21, 35, 35, 21, 7, 1, 1]]"
      ]
     },
     "execution_count": 39,
     "metadata": {},
     "output_type": "execute_result"
    }
   ],
   "source": [
    "numRows = 10\n",
    "ans = [[1] * i for i in range(1, numRows)]\n",
    "\n",
    "def pascal_tri(numRows, ans):\n",
    "    for i in range(2, numRows-1):\n",
    "        for j in range(1, len(ans[i])-2):\n",
    "            ans[i][j] = ans[i-1] [j-1] + ans[i-1] [j]\n",
    "\n",
    "pascal_tri(numRows, ans)\n",
    "ans"
   ]
  },
  {
   "cell_type": "code",
   "execution_count": null,
   "metadata": {},
   "outputs": [],
   "source": []
  },
  {
   "cell_type": "code",
   "execution_count": null,
   "metadata": {},
   "outputs": [
    {
     "name": "stdout",
     "output_type": "stream",
     "text": [
      "[array([0]) array([0, 0]) array([0, 0, 0]) array([0, 0, 0, 0])]\n"
     ]
    }
   ],
   "source": [
    "import numpy as np\n",
    "\n",
    "n = 4  # Number of rows\n",
    "array = np.array([np.zeros(i, dtype=int) for i in range(1, n+1)], dtype=object)\n",
    "print(array)"
   ]
  },
  {
   "cell_type": "code",
   "execution_count": 20,
   "metadata": {},
   "outputs": [
    {
     "name": "stdout",
     "output_type": "stream",
     "text": [
      "[[0], [0, 0], [0, 0, 0], [0, 0, 0, 0]]\n"
     ]
    }
   ],
   "source": [
    "array = [[0] * i for i in range(1, 5)]\n",
    "print(array)"
   ]
  },
  {
   "cell_type": "code",
   "execution_count": null,
   "metadata": {},
   "outputs": [],
   "source": []
  }
 ],
 "metadata": {
  "kernelspec": {
   "display_name": "venv3.9",
   "language": "python",
   "name": "python3"
  },
  "language_info": {
   "codemirror_mode": {
    "name": "ipython",
    "version": 3
   },
   "file_extension": ".py",
   "mimetype": "text/x-python",
   "name": "python",
   "nbconvert_exporter": "python",
   "pygments_lexer": "ipython3",
   "version": "3.9.13"
  }
 },
 "nbformat": 4,
 "nbformat_minor": 2
}
