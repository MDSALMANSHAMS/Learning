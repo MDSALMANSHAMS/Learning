{
 "cells": [
  {
   "cell_type": "code",
   "execution_count": null,
   "metadata": {},
   "outputs": [],
   "source": [
    "# Given an integer x, return true if x is a palindrome, and false otherwise.\n",
    "\n",
    "# Example 1:\n",
    "# Input: x = 121\n",
    "# Output: true\n",
    "# Explanation: 121 reads as 121 from left to right and from right to left."
   ]
  },
  {
   "cell_type": "code",
   "execution_count": 13,
   "metadata": {},
   "outputs": [
    {
     "name": "stdout",
     "output_type": "stream",
     "text": [
      "f\n"
     ]
    }
   ],
   "source": [
    "# method 1\n",
    "\n",
    "x=12211\n",
    "x=str(x)\n",
    "temp=0\n",
    "\n",
    "length=int(len(x)/2)\n",
    "\n",
    "for i in range(length):\n",
    "    if x[i]!=x[len(x)-1-i]:\n",
    "        temp=temp+1\n",
    "\n",
    "if temp==0:\n",
    "    print(\"t\")\n",
    "else:\n",
    "    print(\"f\")"
   ]
  },
  {
   "cell_type": "code",
   "execution_count": null,
   "metadata": {},
   "outputs": [],
   "source": []
  },
  {
   "cell_type": "code",
   "execution_count": 14,
   "metadata": {},
   "outputs": [],
   "source": [
    "# method 2\n",
    "\n",
    "x=121\n",
    "\n",
    "def ispal(x):\n",
    "    s=str(x)\n",
    "    l=list(s)\n",
    "\n",
    "    for i in range(int(len(l)/2)):\n",
    "        temp=l[i]\n",
    "        l[i]=l[-i-1]\n",
    "        l[-i-1]=temp\n",
    "\n",
    "    s = ''.join(map(str, l))\n",
    "    f=int(s)\n",
    "\n",
    "    if f==x:\n",
    "        return True\n",
    "    else:\n",
    "        return False"
   ]
  },
  {
   "cell_type": "code",
   "execution_count": 15,
   "metadata": {},
   "outputs": [
    {
     "data": {
      "text/plain": [
       "True"
      ]
     },
     "execution_count": 15,
     "metadata": {},
     "output_type": "execute_result"
    }
   ],
   "source": [
    "ispal(x)"
   ]
  },
  {
   "cell_type": "code",
   "execution_count": null,
   "metadata": {},
   "outputs": [],
   "source": []
  }
 ],
 "metadata": {
  "kernelspec": {
   "display_name": "venv3.9",
   "language": "python",
   "name": "python3"
  },
  "language_info": {
   "codemirror_mode": {
    "name": "ipython",
    "version": 3
   },
   "file_extension": ".py",
   "mimetype": "text/x-python",
   "name": "python",
   "nbconvert_exporter": "python",
   "pygments_lexer": "ipython3",
   "version": "3.9.13"
  }
 },
 "nbformat": 4,
 "nbformat_minor": 2
}
