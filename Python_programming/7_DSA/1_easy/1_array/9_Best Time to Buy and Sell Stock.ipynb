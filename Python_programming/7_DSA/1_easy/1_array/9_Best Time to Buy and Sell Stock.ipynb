{
 "cells": [
  {
   "cell_type": "code",
   "execution_count": null,
   "metadata": {},
   "outputs": [],
   "source": []
  },
  {
   "cell_type": "code",
   "execution_count": 1,
   "metadata": {},
   "outputs": [
    {
     "data": {
      "text/plain": [
       "'\\nYou are given an array prices where prices[i] is the price of a given stock on the ith day. You want to \\nmaximize your profit by choosing a single day to buy one stock and choosing a different day in the \\nfuture to sell that stock. Return the maximum profit you can achieve from this transaction. If you \\ncannot achieve any profit, return 0.\\n\\nExample 1:\\nInput: prices = [7,1,5,3,6,4]\\nOutput: 5\\nExplanation: Buy on day 2 (price = 1) and sell on day 5 (price = 6), profit = 6-1 = 5.\\nNote that buying on day 2 and selling on day 1 is not allowed because you must buy before you sell.\\n\\nExample 2:\\nInput: prices = [7,6,4,3,1]\\nOutput: 0\\nExplanation: In this case, no transactions are done and the max profit = 0.\\n'"
      ]
     },
     "execution_count": 1,
     "metadata": {},
     "output_type": "execute_result"
    }
   ],
   "source": [
    "'''\n",
    "You are given an array prices where prices[i] is the price of a given stock on the ith day. You want to \n",
    "maximize your profit by choosing a single day to buy one stock and choosing a different day in the \n",
    "future to sell that stock. Return the maximum profit you can achieve from this transaction. If you \n",
    "cannot achieve any profit, return 0.\n",
    "\n",
    "Example 1:\n",
    "Input: prices = [7,1,5,3,6,4]\n",
    "Output: 5\n",
    "Explanation: Buy on day 2 (price = 1) and sell on day 5 (price = 6), profit = 6-1 = 5.\n",
    "Note that buying on day 2 and selling on day 1 is not allowed because you must buy before you sell.\n",
    "\n",
    "Example 2:\n",
    "Input: prices = [7,6,4,3,1]\n",
    "Output: 0\n",
    "Explanation: In this case, no transactions are done and the max profit = 0.\n",
    "'''"
   ]
  },
  {
   "cell_type": "code",
   "execution_count": null,
   "metadata": {},
   "outputs": [
    {
     "name": "stdout",
     "output_type": "stream",
     "text": [
      "5\n"
     ]
    }
   ],
   "source": [
    "prices = [1,6,4,3,1]\n",
    "sum=0\n",
    "\n",
    "for i in range(len(prices)-1):\n",
    "    for j in range(i+1, len(prices)):\n",
    "        curr_sum=prices[j]-prices[i]\n",
    "        if curr_sum>sum:\n",
    "            sum=curr_sum\n",
    "\n",
    "print(sum)\n",
    "# Hi"
   ]
  },
  {
   "cell_type": "code",
   "execution_count": null,
   "metadata": {},
   "outputs": [],
   "source": []
  },
  {
   "cell_type": "code",
   "execution_count": null,
   "metadata": {},
   "outputs": [],
   "source": []
  }
 ],
 "metadata": {
  "kernelspec": {
   "display_name": "venv3.9",
   "language": "python",
   "name": "python3"
  },
  "language_info": {
   "codemirror_mode": {
    "name": "ipython",
    "version": 3
   },
   "file_extension": ".py",
   "mimetype": "text/x-python",
   "name": "python",
   "nbconvert_exporter": "python",
   "pygments_lexer": "ipython3",
   "version": "3.9.13"
  }
 },
 "nbformat": 4,
 "nbformat_minor": 2
}
