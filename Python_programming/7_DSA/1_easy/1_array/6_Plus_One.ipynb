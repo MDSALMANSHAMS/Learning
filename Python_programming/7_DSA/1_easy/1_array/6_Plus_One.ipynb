{
 "cells": [
  {
   "cell_type": "code",
   "execution_count": null,
   "metadata": {},
   "outputs": [],
   "source": [
    "# You are given a large integer represented as an integer array digits, where each digits[i] is \n",
    "# the ith digit of the integer. The digits are ordered from most significant to least significant \n",
    "# in left-to-right order. The large integer does not contain any leading 0's. Increment the large \n",
    "# integer by one and return the resulting array of digits.\n",
    "\n",
    "# Example 1:\n",
    "# Input: digits = [1,2,3]\n",
    "# Output: [1,2,4]\n",
    "# Explanation: The array represents the integer 123.\n",
    "# Incrementing by one gives 123 + 1 = 124.\n",
    "# Thus, the result should be [1,2,4].\n",
    "\n",
    "# Example 2:\n",
    "# Input: digits = [4,3,2,1]\n",
    "# Output: [4,3,2,2]\n",
    "# Explanation: The array represents the integer 4321.\n",
    "# Incrementing by one gives 4321 + 1 = 4322.\n",
    "# Thus, the result should be [4,3,2,2].\n",
    "\n",
    "# Example 3:\n",
    "# Input: digits = [9]\n",
    "# Output: [1,0]\n",
    "# Explanation: The array represents the integer 9.\n",
    "# Incrementing by one gives 9 + 1 = 10.\n",
    "# Thus, the result should be [1,0]."
   ]
  },
  {
   "cell_type": "code",
   "execution_count": 31,
   "metadata": {},
   "outputs": [],
   "source": [
    "digits = [9]\n",
    "def plus_one(digits):\n",
    "    digits[len(digits)-1] += 1\n",
    "    if digits[len(digits)-1] >=10:\n",
    "        digits[len(digits)-1] = 1\n",
    "        digits.append(0)\n",
    "    return digits"
   ]
  },
  {
   "cell_type": "code",
   "execution_count": 32,
   "metadata": {},
   "outputs": [
    {
     "data": {
      "text/plain": [
       "[1, 0]"
      ]
     },
     "execution_count": 32,
     "metadata": {},
     "output_type": "execute_result"
    }
   ],
   "source": [
    "plus_one(digits)"
   ]
  },
  {
   "cell_type": "code",
   "execution_count": null,
   "metadata": {},
   "outputs": [],
   "source": []
  }
 ],
 "metadata": {
  "kernelspec": {
   "display_name": "venv3.9",
   "language": "python",
   "name": "python3"
  },
  "language_info": {
   "codemirror_mode": {
    "name": "ipython",
    "version": 3
   },
   "file_extension": ".py",
   "mimetype": "text/x-python",
   "name": "python",
   "nbconvert_exporter": "python",
   "pygments_lexer": "ipython3",
   "version": "3.9.13"
  }
 },
 "nbformat": 4,
 "nbformat_minor": 2
}
