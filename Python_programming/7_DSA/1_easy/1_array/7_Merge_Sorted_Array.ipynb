{
 "cells": [
  {
   "cell_type": "code",
   "execution_count": null,
   "metadata": {},
   "outputs": [],
   "source": [
    "# You are given two integer arrays nums1 and nums2, sorted in non-decreasing order, and two integers \n",
    "# m and n, representing the number of elements in nums1 and nums2 respectively. Merge nums1 and \n",
    "# nums2 into a single array sorted in non-decreasing order. The final sorted array should not be \n",
    "# returned by the function, but instead be stored inside the array nums1. To accommodate this, \n",
    "# nums1 has a length of m + n, where the first m elements denote the elements that should be merged, \n",
    "# and the last n elements are set to 0 and should be ignored. nums2 has a length of n.\n",
    "\n",
    "# Example 1:\n",
    "# Input: nums1 = [1,2,3,0,0,0], m = 3, nums2 = [2,5,6], n = 3\n",
    "# Output: [1,2,2,3,5,6]\n",
    "# Explanation: The arrays we are merging are [1,2,3] and [2,5,6].\n",
    "# The result of the merge is [1,2,2,3,5,6] with the underlined elements coming from nums1.\n",
    "\n",
    "# Example 2:\n",
    "# Input: nums1 = [1], m = 1, nums2 = [], n = 0\n",
    "# Output: [1]\n",
    "# Explanation: The arrays we are merging are [1] and [].\n",
    "# The result of the merge is [1].\n",
    "\n",
    "# Example 3:\n",
    "# Input: nums1 = [0], m = 0, nums2 = [1], n = 1\n",
    "# Output: [1]\n",
    "# Explanation: The arrays we are merging are [] and [1].\n",
    "# The result of the merge is [1].\n",
    "# Note that because m = 0, there are no elements in nums1. The 0 is only there to ensure the merge result can fit in nums1."
   ]
  },
  {
   "cell_type": "code",
   "execution_count": 5,
   "metadata": {},
   "outputs": [
    {
     "data": {
      "text/plain": [
       "[1, 2, 2, 3, 5, 6]"
      ]
     },
     "execution_count": 5,
     "metadata": {},
     "output_type": "execute_result"
    }
   ],
   "source": [
    "nums1 = [1,2,3,0,0,0] \n",
    "nums2 = [2,5,6]\n",
    "ans=[]\n",
    "m = 3\n",
    "n = 3\n",
    "\n",
    "def merge_arr(nums1,nums2, m, n):\n",
    "    for i in range(0, m):\n",
    "        ans.append(nums1[i])\n",
    "\n",
    "    for j in range(0, n):\n",
    "        ans.append(nums2[j])\n",
    "\n",
    "    ans.sort()\n",
    "\n",
    "    return ans\n",
    "\n",
    "merge_arr(nums1,nums2,m,n)"
   ]
  },
  {
   "cell_type": "code",
   "execution_count": null,
   "metadata": {},
   "outputs": [],
   "source": []
  }
 ],
 "metadata": {
  "kernelspec": {
   "display_name": "venv3.9",
   "language": "python",
   "name": "python3"
  },
  "language_info": {
   "codemirror_mode": {
    "name": "ipython",
    "version": 3
   },
   "file_extension": ".py",
   "mimetype": "text/x-python",
   "name": "python",
   "nbconvert_exporter": "python",
   "pygments_lexer": "ipython3",
   "version": "3.9.13"
  }
 },
 "nbformat": 4,
 "nbformat_minor": 2
}
