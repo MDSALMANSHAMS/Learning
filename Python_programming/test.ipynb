{
 "cells": [
  {
   "cell_type": "code",
   "execution_count": null,
   "id": "93bbc51f",
   "metadata": {},
   "outputs": [],
   "source": []
  },
  {
   "cell_type": "code",
   "execution_count": null,
   "metadata": {},
   "outputs": [],
   "source": [
    "# image classification\n",
    "\n",
    "# dataloader\n",
    "\n",
    "# batch: 32\n",
    "\n",
    "def dataloader(path_to_dir, batch_size):\n",
    "    \n",
    "\n",
    "\n"
   ]
  },
  {
   "cell_type": "code",
   "execution_count": null,
   "id": "2914f987",
   "metadata": {},
   "outputs": [],
   "source": [
    "# softmax: multi-classification\n",
    "\n",
    "import torch\n",
    "import torch.nn as nn\n",
    "\n",
    "class model_arch(nn.modules):\n",
    "    def __init__(self,x):\n",
    "        self.img=x\n",
    "        self.softmax=nn.Softmax()\n",
    "\n",
    "    def forward(self, x):\n",
    "        nn.Conv2d(28, 16, (2,2), 1), # image size: (28,28)\n",
    "        nn.MaxPool2d(),\n",
    "        nn.ReLU(),\n",
    "\n",
    "        nn.Conv2d(16, 8, (2,2), 1),\n",
    "        nn.MaxPool2d(),\n",
    "          \n",
    "        nn.Flatten(), # 1d verctor\n",
    "\n",
    "        return self.softmax() # 1d \n",
    "\n",
    "    \n",
    "# loss\n",
    "loss=\"crossentropyloss\"\n",
    "# loop\n",
    "\n",
    "epochs=10\n",
    "\n",
    "for epoch in epochs:\n",
    "    # forwar pass\n",
    "    y_pred=model_arch(x)\n",
    "    \n",
    "    # loss cal\n",
    "    loss= \"fn(y, Y_pred)\"\n",
    "    \n",
    "    # back prop\n",
    "    loss.backward()\n",
    "    \n",
    "    # gradients update\n",
    "    # w= w - lr. dl/dw\n",
    " \n",
    "\n"
   ]
  }
 ],
 "metadata": {
  "kernelspec": {
   "display_name": "venv3.9",
   "language": "python",
   "name": "python3"
  },
  "language_info": {
   "name": "python",
   "version": "3.9.13"
  }
 },
 "nbformat": 4,
 "nbformat_minor": 5
}
