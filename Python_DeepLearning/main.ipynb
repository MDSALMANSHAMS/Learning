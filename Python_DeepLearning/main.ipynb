{
 "cells": [
  {
   "cell_type": "code",
   "execution_count": null,
   "metadata": {},
   "outputs": [],
   "source": [
    "# git add --renormalize ."
   ]
  },
  {
   "cell_type": "code",
   "execution_count": 2,
   "metadata": {},
   "outputs": [
    {
     "name": "stdout",
     "output_type": "stream",
     "text": [
      "Output shape: torch.Size([1, 10])\n",
      "Output values: tensor([[ 0.0420,  0.1338,  0.0980, -0.0302, -0.0128,  0.2267,  0.0412, -0.0737,\n",
      "         -0.0125,  0.0944]], grad_fn=<AddmmBackward0>)\n"
     ]
    }
   ],
   "source": [
    "import torch\n",
    "import torch.nn as nn\n",
    "\n",
    "# Define the model using Sequential\n",
    "model = nn.Sequential(\n",
    "    nn.Conv2d(254, 128, 3, 1),    # Conv2d: input channels=254, output channels=128, kernel size=3, stride=1\n",
    "    nn.ReLU(),                    # ReLU activation applied after the convolution\n",
    "    nn.MaxPool2d(2, 2),           # MaxPool2d: kernel size=2, stride=2\n",
    "    nn.Conv2d(128, 64, 3, 1),     # Conv2d: input channels=128, output channels=64, kernel size=3, stride=1\n",
    "    nn.ReLU(),                    # ReLU activation\n",
    "    nn.MaxPool2d(2, 2),           # MaxPool2d: kernel size=2, stride=2\n",
    "    nn.Flatten(),                 # Flatten the tensor for the fully connected layer\n",
    "    nn.Linear(64 * 6 * 6, 128),   # Fully connected: input features=64*6*6, output features=128\n",
    "    nn.ReLU(),                    # ReLU activation\n",
    "    nn.Linear(128, 10)            # Fully connected: input features=128, output features=10 (for 10 classes)\n",
    ")\n",
    "\n",
    "# Example input: a tensor with 254 channels (assuming feature maps with 32x32 spatial dimensions)\n",
    "input_tensor = torch.randn(1, 254, 32, 32)\n",
    "\n",
    "# Forward pass\n",
    "output = model(input_tensor)\n",
    "\n",
    "# Print output shape and values\n",
    "print(\"Output shape:\", output.shape)\n",
    "print(\"Output values:\", output)\n"
   ]
  },
  {
   "cell_type": "code",
   "execution_count": null,
   "metadata": {},
   "outputs": [],
   "source": []
  }
 ],
 "metadata": {
  "kernelspec": {
   "display_name": "base",
   "language": "python",
   "name": "python3"
  },
  "language_info": {
   "codemirror_mode": {
    "name": "ipython",
    "version": 3
   },
   "file_extension": ".py",
   "mimetype": "text/x-python",
   "name": "python",
   "nbconvert_exporter": "python",
   "pygments_lexer": "ipython3",
   "version": "3.7.3"
  }
 },
 "nbformat": 4,
 "nbformat_minor": 2
}
