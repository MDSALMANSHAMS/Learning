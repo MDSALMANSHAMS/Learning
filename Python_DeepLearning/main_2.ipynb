{
 "cells": [
  {
   "cell_type": "markdown",
   "metadata": {},
   "source": [
    "### Forward pass\n"
   ]
  },
  {
   "cell_type": "code",
   "execution_count": 1,
   "metadata": {},
   "outputs": [
    {
     "name": "stdout",
     "output_type": "stream",
     "text": [
      "Output: tensor([[-0.1948,  0.3719]], grad_fn=<AddmmBackward0>)\n"
     ]
    }
   ],
   "source": [
    "import torch\n",
    "import torch.nn as nn\n",
    "\n",
    "# Define the model using nn.Sequential\n",
    "input_size = 10\n",
    "hidden_size = 5\n",
    "output_size = 2\n",
    "\n",
    "model = nn.Sequential(\n",
    "    nn.Linear(input_size, hidden_size),\n",
    "    nn.ReLU(),\n",
    "    nn.Linear(hidden_size, output_size)\n",
    ")\n",
    "\n",
    "# Create a random input tensor (batch_size = 1, input_size = 10)\n",
    "input_tensor = torch.randn(1, input_size)\n",
    "\n",
    "# Perform a forward pass\n",
    "output = model(input_tensor)\n",
    "\n",
    "# Output the result\n",
    "print(\"Output:\", output)"
   ]
  },
  {
   "cell_type": "code",
   "execution_count": null,
   "metadata": {},
   "outputs": [],
   "source": []
  },
  {
   "cell_type": "code",
   "execution_count": 3,
   "metadata": {},
   "outputs": [
    {
     "name": "stdout",
     "output_type": "stream",
     "text": [
      "Output: tensor([[-0.6191,  0.1434, -0.1736, -0.0616,  0.3006, -0.0953, -0.2758, -0.4010,\n",
      "          0.1445, -0.5403]], grad_fn=<AddmmBackward0>)\n"
     ]
    }
   ],
   "source": [
    "import torch\n",
    "import torch.nn as nn\n",
    "from torchvision import transforms\n",
    "from PIL import Image\n",
    "\n",
    "# 1. Load the image\n",
    "image_path = r'D:\\Learning\\Python_DeepLearning\\art.jpg'\n",
    "image = Image.open(image_path)\n",
    "\n",
    "# 2. Preprocess the image\n",
    "transform = transforms.Compose([\n",
    "    transforms.Resize((224, 224)),   # Resize to 224x224\n",
    "    transforms.ToTensor(),           # Convert image to PyTorch tensor\n",
    "    transforms.Normalize(mean=[0.485, 0.456, 0.406],  # Normalize as per ImageNet standards\n",
    "                         std=[0.229, 0.224, 0.225])\n",
    "])\n",
    "\n",
    "input_image = transform(image).unsqueeze(0)  # Add batch dimension\n",
    "\n",
    "# 3. Define a simple CNN model (you can also load pre-trained models like ResNet)\n",
    "model = nn.Sequential(\n",
    "    nn.Conv2d(3, 16, kernel_size=3, stride=1, padding=1),\n",
    "    nn.ReLU(),\n",
    "    nn.MaxPool2d(2),\n",
    "    nn.Conv2d(16, 32, kernel_size=3, stride=1, padding=1),\n",
    "    nn.ReLU(),\n",
    "    nn.MaxPool2d(2),\n",
    "    nn.Flatten(),\n",
    "    nn.Linear(32 * 56 * 56, 10),  # Adjust the output size for your case\n",
    ")\n",
    "\n",
    "# 4. Perform the forward pass\n",
    "output = model(input_image)\n",
    "\n",
    "# Output the result\n",
    "print(\"Output:\", output)\n"
   ]
  },
  {
   "cell_type": "code",
   "execution_count": null,
   "metadata": {},
   "outputs": [],
   "source": []
  },
  {
   "cell_type": "code",
   "execution_count": 4,
   "metadata": {},
   "outputs": [
    {
     "name": "stdout",
     "output_type": "stream",
     "text": [
      "Output: tensor([[ 0.2141,  0.0408, -0.1014]], grad_fn=<AddmmBackward0>)\n"
     ]
    }
   ],
   "source": [
    "import torch\n",
    "import torch.nn as nn\n",
    "from torchvision import transforms\n",
    "from PIL import Image\n",
    "\n",
    "# 1. Load the image\n",
    "image = Image.open(image_path)\n",
    "\n",
    "# 2. Preprocess the image\n",
    "transform = transforms.Compose([\n",
    "    transforms.Resize((224, 224)),   # Resize to 224x224\n",
    "    transforms.ToTensor(),           # Convert image to PyTorch tensor\n",
    "    transforms.Normalize(mean=[0.485, 0.456, 0.406],  # Normalize as per ImageNet standards\n",
    "                         std=[0.229, 0.224, 0.225])\n",
    "])\n",
    "\n",
    "input_image = transform(image).unsqueeze(0)  # Add batch dimension\n",
    "\n",
    "# 3. Define a simple CNN model with 3 classes in the output layer\n",
    "model = nn.Sequential(\n",
    "    nn.Conv2d(3, 16, kernel_size=3, stride=1, padding=1),  # Conv layer 1\n",
    "    nn.ReLU(),  # Activation\n",
    "    nn.MaxPool2d(2),  # Max Pooling layer 1\n",
    "    nn.Conv2d(16, 32, kernel_size=3, stride=1, padding=1),  # Conv layer 2\n",
    "    nn.ReLU(),  # Activation\n",
    "    nn.MaxPool2d(2),  # Max Pooling layer 2\n",
    "    nn.Flatten(),  # Flatten before feeding into FC layer\n",
    "    nn.Linear(32 * 56 * 56, 3)  # Fully connected layer with 3 output classes\n",
    ")\n",
    "\n",
    "# 4. Perform the forward pass\n",
    "output = model(input_image)\n",
    "\n",
    "# Output the result\n",
    "print(\"Output:\", output)\n"
   ]
  },
  {
   "cell_type": "code",
   "execution_count": null,
   "metadata": {},
   "outputs": [],
   "source": []
  }
 ],
 "metadata": {
  "kernelspec": {
   "display_name": "venv3.9",
   "language": "python",
   "name": "python3"
  },
  "language_info": {
   "codemirror_mode": {
    "name": "ipython",
    "version": 3
   },
   "file_extension": ".py",
   "mimetype": "text/x-python",
   "name": "python",
   "nbconvert_exporter": "python",
   "pygments_lexer": "ipython3",
   "version": "3.9.13"
  }
 },
 "nbformat": 4,
 "nbformat_minor": 2
}
