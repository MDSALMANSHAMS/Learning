{
 "cells": [
  {
   "cell_type": "code",
   "execution_count": null,
   "id": "8fde4e45",
   "metadata": {},
   "outputs": [],
   "source": []
  },
  {
   "cell_type": "code",
   "execution_count": null,
   "id": "05c93ced",
   "metadata": {},
   "outputs": [],
   "source": [
    "''' \n",
    "- **ANN (Artificial Neural Network)**:\n",
    "  - Computational models inspired by biological neurons, used for classification and regression by learning complex, \n",
    "    nonlinear patterns.\n",
    "\n",
    "- **Handling Image Data**:\n",
    "  - Images are flattened into 1D arrays (pixels converted to input nodes), losing spatial relationships.\n",
    "\n",
    "- **Why ANN isn't suitable for Image Data**:\n",
    "  - Does **not preserve spatial context** (pixel proximity, position), reducing accuracy.\n",
    "  - Inefficient compared to CNNs (Convolutional Neural Networks) which use spatial structures.\n",
    "\n",
    "- **Scenarios Where ANN Outperforms Classical ML Models**:\n",
    "  - Large datasets with **complex nonlinear patterns**.\n",
    "  - Rich numerical data requiring complex feature interactions (high-dimensional tabular/statistical data).\n",
    "  - Situations where classical ML models fail to capture intricate relationships effectively.\n",
    "'''"
   ]
  },
  {
   "cell_type": "code",
   "execution_count": null,
   "id": "490dbccc",
   "metadata": {},
   "outputs": [],
   "source": [
    "''' \n",
    "Difference between torch.tensor and torch.Tensor?\n",
    "- torch.tensor() lets you explicitly set datatype; torch.Tensor() creates a default tensor of dtype float32.\n",
    "'''"
   ]
  },
  {
   "cell_type": "code",
   "execution_count": 8,
   "id": "518cc97e",
   "metadata": {},
   "outputs": [
    {
     "data": {
      "text/plain": [
       "tensor([0.4118], grad_fn=<SigmoidBackward0>)"
      ]
     },
     "execution_count": 8,
     "metadata": {},
     "output_type": "execute_result"
    }
   ],
   "source": [
    "import torch\n",
    "import torch.nn as nn\n",
    "\n",
    "class ANN(nn.Module):\n",
    "    def __init__(self):\n",
    "        super().__init__()\n",
    "        self.model=nn.Sequential(\n",
    "            nn.Linear(3,5),\n",
    "            nn.ReLU(),\n",
    "            \n",
    "            nn.Linear(5,1),\n",
    "            nn.Sigmoid()\n",
    "        )\n",
    "\n",
    "    def forward(self, x):\n",
    "        return self.model(x)\n",
    "    \n",
    "model=ANN()\n",
    "x=torch.tensor([1,2,3], dtype=torch.float32)\n",
    "model(x)\n",
    "\n",
    "# output: tensor([0.4941], grad_fn=<SigmoidBackward0>)"
   ]
  },
  {
   "cell_type": "code",
   "execution_count": 9,
   "id": "40b656ca",
   "metadata": {},
   "outputs": [],
   "source": [
    "output = model(x)\n",
    "loss = (output - torch.tensor([1.0]))**2  # dummy loss\n",
    "loss.backward()  # gradients calculated here\n"
   ]
  },
  {
   "cell_type": "code",
   "execution_count": null,
   "id": "0b32de13",
   "metadata": {},
   "outputs": [
    {
     "name": "stdout",
     "output_type": "stream",
     "text": [
      "tensor([[0.0000, 0.0000, 0.0000],\n",
      "        [0.0516, 0.1032, 0.1547],\n",
      "        [0.0041, 0.0081, 0.0122],\n",
      "        [0.0000, 0.0000, 0.0000],\n",
      "        [0.0388, 0.0776, 0.1163]])\n",
      "tensor([0.0000, 0.0516, 0.0041, 0.0000, 0.0388])\n",
      "tensor([[ 0.0000, -0.0853, -0.2087,  0.0000, -0.1173]])\n",
      "tensor([-0.2850])\n"
     ]
    }
   ],
   "source": [
    "for param in model.parameters():\n",
    "    print(param.grad)\n",
    "\n",
    "''' \n",
    "tensor([[0.0000, 0.0000, 0.0000],\n",
    "        [0.0516, 0.1032, 0.1547],\n",
    "        [0.0041, 0.0081, 0.0122],\n",
    "        [0.0000, 0.0000, 0.0000],\n",
    "        [0.0388, 0.0776, 0.1163]])\n",
    "tensor([0.0000, 0.0516, 0.0041, 0.0000, 0.0388])\n",
    "tensor([[ 0.0000, -0.0853, -0.2087,  0.0000, -0.1173]])\n",
    "tensor([-0.2850])\n",
    "'''"
   ]
  },
  {
   "cell_type": "code",
   "execution_count": null,
   "id": "c910e0a2",
   "metadata": {},
   "outputs": [],
   "source": []
  }
 ],
 "metadata": {
  "kernelspec": {
   "display_name": "venv3.9",
   "language": "python",
   "name": "python3"
  },
  "language_info": {
   "codemirror_mode": {
    "name": "ipython",
    "version": 3
   },
   "file_extension": ".py",
   "mimetype": "text/x-python",
   "name": "python",
   "nbconvert_exporter": "python",
   "pygments_lexer": "ipython3",
   "version": "3.9.13"
  }
 },
 "nbformat": 4,
 "nbformat_minor": 5
}
